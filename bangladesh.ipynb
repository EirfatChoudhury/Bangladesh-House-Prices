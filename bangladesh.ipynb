{
 "cells": [
  {
   "attachments": {},
   "cell_type": "markdown",
   "metadata": {},
   "source": [
    "# Machine Learning Regression Project - Bangladesh House Price Prediction"
   ]
  },
  {
   "attachments": {},
   "cell_type": "markdown",
   "metadata": {},
   "source": [
    "##### Dataset can be found here - https://www.kaggle.com/datasets/ijajdatanerd/property-listing-data-in-bangladesh"
   ]
  },
  {
   "attachments": {},
   "cell_type": "markdown",
   "metadata": {},
   "source": [
    "#### Importing Libraries"
   ]
  },
  {
   "cell_type": "code",
   "execution_count": 523,
   "metadata": {},
   "outputs": [],
   "source": [
    "# Importing libraries\n",
    "\n",
    "import pandas as pd\n",
    "import numpy as np\n",
    "import seaborn as sns\n",
    "from matplotlib import pyplot as plt\n",
    "%matplotlib inline\n",
    "import matplotlib \n",
    "matplotlib.rcParams[\"figure.figsize\"] = (20,10)\n",
    "from sklearn.model_selection import train_test_split\n",
    "from sklearn.linear_model import LinearRegression\n",
    "from sklearn.model_selection import ShuffleSplit\n",
    "from sklearn.model_selection import GridSearchCV\n",
    "from sklearn.linear_model import Lasso\n",
    "from sklearn.tree import DecisionTreeRegressor"
   ]
  },
  {
   "attachments": {},
   "cell_type": "markdown",
   "metadata": {},
   "source": [
    "### Loading Data"
   ]
  },
  {
   "cell_type": "code",
   "execution_count": 524,
   "metadata": {},
   "outputs": [
    {
     "data": {
      "text/html": [
       "<div>\n",
       "<style scoped>\n",
       "    .dataframe tbody tr th:only-of-type {\n",
       "        vertical-align: middle;\n",
       "    }\n",
       "\n",
       "    .dataframe tbody tr th {\n",
       "        vertical-align: top;\n",
       "    }\n",
       "\n",
       "    .dataframe thead th {\n",
       "        text-align: right;\n",
       "    }\n",
       "</style>\n",
       "<table border=\"1\" class=\"dataframe\">\n",
       "  <thead>\n",
       "    <tr style=\"text-align: right;\">\n",
       "      <th></th>\n",
       "      <th>title</th>\n",
       "      <th>beds</th>\n",
       "      <th>bath</th>\n",
       "      <th>area</th>\n",
       "      <th>adress</th>\n",
       "      <th>type</th>\n",
       "      <th>purpose</th>\n",
       "      <th>flooPlan</th>\n",
       "      <th>url</th>\n",
       "      <th>lastUpdated</th>\n",
       "      <th>price</th>\n",
       "    </tr>\n",
       "  </thead>\n",
       "  <tbody>\n",
       "    <tr>\n",
       "      <th>0</th>\n",
       "      <td>Eminent Apartment Of 2200 Sq Ft Is Vacant For ...</td>\n",
       "      <td>3</td>\n",
       "      <td>4</td>\n",
       "      <td>2,200 sqft</td>\n",
       "      <td>Block A, Bashundhara R-A, Dhaka</td>\n",
       "      <td>Apartment</td>\n",
       "      <td>For Rent</td>\n",
       "      <td>https://images-cdn.bproperty.com/thumbnails/10...</td>\n",
       "      <td>https://www.bproperty.com/en/property/details-...</td>\n",
       "      <td>August 13, 2022</td>\n",
       "      <td>50 Thousand</td>\n",
       "    </tr>\n",
       "    <tr>\n",
       "      <th>1</th>\n",
       "      <td>Apartment Ready To Rent In South Khulshi, Near...</td>\n",
       "      <td>3</td>\n",
       "      <td>4</td>\n",
       "      <td>1,400 sqft</td>\n",
       "      <td>South Khulshi, Khulshi, Chattogram</td>\n",
       "      <td>Apartment</td>\n",
       "      <td>For Rent</td>\n",
       "      <td>https://images-cdn.bproperty.com/thumbnails/44...</td>\n",
       "      <td>https://www.bproperty.com/en/property/details-...</td>\n",
       "      <td>January 25, 2022</td>\n",
       "      <td>30 Thousand</td>\n",
       "    </tr>\n",
       "    <tr>\n",
       "      <th>2</th>\n",
       "      <td>Smartly priced 1950 SQ FT apartment, that you ...</td>\n",
       "      <td>3</td>\n",
       "      <td>4</td>\n",
       "      <td>1,950 sqft</td>\n",
       "      <td>Block F, Bashundhara R-A, Dhaka</td>\n",
       "      <td>Apartment</td>\n",
       "      <td>For Rent</td>\n",
       "      <td>https://images-cdn.bproperty.com/thumbnails/11...</td>\n",
       "      <td>https://www.bproperty.com/en/property/details-...</td>\n",
       "      <td>February 22, 2023</td>\n",
       "      <td>30 Thousand</td>\n",
       "    </tr>\n",
       "    <tr>\n",
       "      <th>3</th>\n",
       "      <td>2000 Sq Ft Residential Apartment Is Up For Ren...</td>\n",
       "      <td>3</td>\n",
       "      <td>3</td>\n",
       "      <td>2,000 sqft</td>\n",
       "      <td>Sector 9, Uttara, Dhaka</td>\n",
       "      <td>Apartment</td>\n",
       "      <td>For Rent</td>\n",
       "      <td>https://images-cdn.bproperty.com/thumbnails/14...</td>\n",
       "      <td>https://www.bproperty.com/en/property/details-...</td>\n",
       "      <td>October 28, 2021</td>\n",
       "      <td>35 Thousand</td>\n",
       "    </tr>\n",
       "    <tr>\n",
       "      <th>4</th>\n",
       "      <td>Strongly Structured This 1650 Sq. ft Apartment...</td>\n",
       "      <td>3</td>\n",
       "      <td>4</td>\n",
       "      <td>1,650 sqft</td>\n",
       "      <td>Block I, Bashundhara R-A, Dhaka</td>\n",
       "      <td>Apartment</td>\n",
       "      <td>For Rent</td>\n",
       "      <td>https://images-cdn.bproperty.com/thumbnails/10...</td>\n",
       "      <td>https://www.bproperty.com/en/property/details-...</td>\n",
       "      <td>February 19, 2023</td>\n",
       "      <td>25 Thousand</td>\n",
       "    </tr>\n",
       "  </tbody>\n",
       "</table>\n",
       "</div>"
      ],
      "text/plain": [
       "                                               title beds bath        area  \\\n",
       "0  Eminent Apartment Of 2200 Sq Ft Is Vacant For ...   3    4   2,200 sqft   \n",
       "1  Apartment Ready To Rent In South Khulshi, Near...   3    4   1,400 sqft   \n",
       "2  Smartly priced 1950 SQ FT apartment, that you ...   3    4   1,950 sqft   \n",
       "3  2000 Sq Ft Residential Apartment Is Up For Ren...   3    3   2,000 sqft   \n",
       "4  Strongly Structured This 1650 Sq. ft Apartment...   3    4   1,650 sqft   \n",
       "\n",
       "                               adress       type   purpose  \\\n",
       "0     Block A, Bashundhara R-A, Dhaka  Apartment  For Rent   \n",
       "1  South Khulshi, Khulshi, Chattogram  Apartment  For Rent   \n",
       "2     Block F, Bashundhara R-A, Dhaka  Apartment  For Rent   \n",
       "3             Sector 9, Uttara, Dhaka  Apartment  For Rent   \n",
       "4     Block I, Bashundhara R-A, Dhaka  Apartment  For Rent   \n",
       "\n",
       "                                            flooPlan  \\\n",
       "0  https://images-cdn.bproperty.com/thumbnails/10...   \n",
       "1  https://images-cdn.bproperty.com/thumbnails/44...   \n",
       "2  https://images-cdn.bproperty.com/thumbnails/11...   \n",
       "3  https://images-cdn.bproperty.com/thumbnails/14...   \n",
       "4  https://images-cdn.bproperty.com/thumbnails/10...   \n",
       "\n",
       "                                                 url        lastUpdated  \\\n",
       "0  https://www.bproperty.com/en/property/details-...    August 13, 2022   \n",
       "1  https://www.bproperty.com/en/property/details-...   January 25, 2022   \n",
       "2  https://www.bproperty.com/en/property/details-...  February 22, 2023   \n",
       "3  https://www.bproperty.com/en/property/details-...   October 28, 2021   \n",
       "4  https://www.bproperty.com/en/property/details-...  February 19, 2023   \n",
       "\n",
       "         price  \n",
       "0  50 Thousand  \n",
       "1  30 Thousand  \n",
       "2  30 Thousand  \n",
       "3  35 Thousand  \n",
       "4  25 Thousand  "
      ]
     },
     "execution_count": 524,
     "metadata": {},
     "output_type": "execute_result"
    }
   ],
   "source": [
    "# Reading data\n",
    "df1 = pd.read_csv(\"properties.csv\")\n",
    "df1.head()"
   ]
  },
  {
   "cell_type": "code",
   "execution_count": 525,
   "metadata": {},
   "outputs": [
    {
     "data": {
      "text/plain": [
       "Index(['title', 'beds', 'bath', 'area', 'adress', 'type', 'purpose',\n",
       "       'flooPlan', 'url', 'lastUpdated', 'price'],\n",
       "      dtype='object')"
      ]
     },
     "execution_count": 525,
     "metadata": {},
     "output_type": "execute_result"
    }
   ],
   "source": [
    "# Looking for columns I'm interested in to prepare them for cleaning (Beds, Bath, Area, Adress, Purpose, Price)\n",
    "df1.columns"
   ]
  },
  {
   "cell_type": "code",
   "execution_count": 526,
   "metadata": {},
   "outputs": [
    {
     "data": {
      "text/html": [
       "<div>\n",
       "<style scoped>\n",
       "    .dataframe tbody tr th:only-of-type {\n",
       "        vertical-align: middle;\n",
       "    }\n",
       "\n",
       "    .dataframe tbody tr th {\n",
       "        vertical-align: top;\n",
       "    }\n",
       "\n",
       "    .dataframe thead th {\n",
       "        text-align: right;\n",
       "    }\n",
       "</style>\n",
       "<table border=\"1\" class=\"dataframe\">\n",
       "  <thead>\n",
       "    <tr style=\"text-align: right;\">\n",
       "      <th></th>\n",
       "      <th>beds</th>\n",
       "      <th>bath</th>\n",
       "      <th>area</th>\n",
       "      <th>adress</th>\n",
       "      <th>price</th>\n",
       "    </tr>\n",
       "  </thead>\n",
       "  <tbody>\n",
       "    <tr>\n",
       "      <th>0</th>\n",
       "      <td>3</td>\n",
       "      <td>4</td>\n",
       "      <td>2,200 sqft</td>\n",
       "      <td>Block A, Bashundhara R-A, Dhaka</td>\n",
       "      <td>50 Thousand</td>\n",
       "    </tr>\n",
       "    <tr>\n",
       "      <th>1</th>\n",
       "      <td>3</td>\n",
       "      <td>4</td>\n",
       "      <td>1,400 sqft</td>\n",
       "      <td>South Khulshi, Khulshi, Chattogram</td>\n",
       "      <td>30 Thousand</td>\n",
       "    </tr>\n",
       "    <tr>\n",
       "      <th>2</th>\n",
       "      <td>3</td>\n",
       "      <td>4</td>\n",
       "      <td>1,950 sqft</td>\n",
       "      <td>Block F, Bashundhara R-A, Dhaka</td>\n",
       "      <td>30 Thousand</td>\n",
       "    </tr>\n",
       "    <tr>\n",
       "      <th>3</th>\n",
       "      <td>3</td>\n",
       "      <td>3</td>\n",
       "      <td>2,000 sqft</td>\n",
       "      <td>Sector 9, Uttara, Dhaka</td>\n",
       "      <td>35 Thousand</td>\n",
       "    </tr>\n",
       "    <tr>\n",
       "      <th>4</th>\n",
       "      <td>3</td>\n",
       "      <td>4</td>\n",
       "      <td>1,650 sqft</td>\n",
       "      <td>Block I, Bashundhara R-A, Dhaka</td>\n",
       "      <td>25 Thousand</td>\n",
       "    </tr>\n",
       "  </tbody>\n",
       "</table>\n",
       "</div>"
      ],
      "text/plain": [
       "  beds bath        area                              adress        price\n",
       "0   3    4   2,200 sqft     Block A, Bashundhara R-A, Dhaka  50 Thousand\n",
       "1   3    4   1,400 sqft  South Khulshi, Khulshi, Chattogram  30 Thousand\n",
       "2   3    4   1,950 sqft     Block F, Bashundhara R-A, Dhaka  30 Thousand\n",
       "3   3    3   2,000 sqft             Sector 9, Uttara, Dhaka  35 Thousand\n",
       "4   3    4   1,650 sqft     Block I, Bashundhara R-A, Dhaka  25 Thousand"
      ]
     },
     "execution_count": 526,
     "metadata": {},
     "output_type": "execute_result"
    }
   ],
   "source": [
    "# Dropping columns I'm not interested in (Title, Type, Purpose, FlooPlan, URL, LastUpdated)\n",
    "df2 = df1.drop([\"title\", \"type\", \"purpose\", \"flooPlan\", \"url\", \"lastUpdated\"], axis=\"columns\")\n",
    "df2.head()"
   ]
  },
  {
   "attachments": {},
   "cell_type": "markdown",
   "metadata": {},
   "source": [
    "### Data Cleaning"
   ]
  },
  {
   "attachments": {},
   "cell_type": "markdown",
   "metadata": {},
   "source": [
    "##### Handling Null Values"
   ]
  },
  {
   "cell_type": "code",
   "execution_count": 527,
   "metadata": {},
   "outputs": [
    {
     "data": {
      "text/plain": [
       "beds      0\n",
       "bath      0\n",
       "area      0\n",
       "adress    0\n",
       "price     0\n",
       "dtype: int64"
      ]
     },
     "execution_count": 527,
     "metadata": {},
     "output_type": "execute_result"
    }
   ],
   "source": [
    "# Checking for null values\n",
    "df2.isnull().sum()"
   ]
  },
  {
   "attachments": {},
   "cell_type": "markdown",
   "metadata": {},
   "source": [
    "##### Handling Unique Values"
   ]
  },
  {
   "attachments": {},
   "cell_type": "markdown",
   "metadata": {},
   "source": [
    "###### Finding Unique Values"
   ]
  },
  {
   "cell_type": "code",
   "execution_count": 528,
   "metadata": {},
   "outputs": [
    {
     "data": {
      "text/plain": [
       "array(['3 ', '5 ', '4 ', '1 Bed', '2 ', '17 ', '6 ', '21 ', '7 ', '20 ',\n",
       "       '32 ', '22 ', '36 '], dtype=object)"
      ]
     },
     "execution_count": 528,
     "metadata": {},
     "output_type": "execute_result"
    }
   ],
   "source": [
    "# Checking that data in each column are all uniform in their presentation (Bed - Not uniform - Some are Integers, some are strings)\n",
    "df2[\"beds\"].unique()"
   ]
  },
  {
   "cell_type": "code",
   "execution_count": 529,
   "metadata": {},
   "outputs": [
    {
     "data": {
      "text/plain": [
       "array(['4 ', '3 ', '5 ', '2 ', '1 Bath', '6 ', '10 ', '8 ', '7 '],\n",
       "      dtype=object)"
      ]
     },
     "execution_count": 529,
     "metadata": {},
     "output_type": "execute_result"
    }
   ],
   "source": [
    "# Checking that data in each column are all uniform in their presentation (Bath - Not uniform - Some are Integers, some are strings)\n",
    "df2[\"bath\"].unique()"
   ]
  },
  {
   "cell_type": "code",
   "execution_count": 530,
   "metadata": {},
   "outputs": [
    {
     "data": {
      "text/plain": [
       "array(['2,200 sqft', '1,400 sqft', '1,950 sqft', '2,000 sqft',\n",
       "       '1,650 sqft', '3,400 sqft', '1,600 sqft', '1,250 sqft',\n",
       "       '2,150 sqft', '1,580 sqft', '3,200 sqft', '3,000 sqft',\n",
       "       '1,800 sqft', '1,750 sqft', '1,310 sqft', '1,700 sqft',\n",
       "       '2,750 sqft', '2,500 sqft', '550 sqft', '1,050 sqft', '1,350 sqft',\n",
       "       '3,590 sqft', '400 sqft', '2,400 sqft', '500 sqft', '2,300 sqft',\n",
       "       '4,350 sqft', '1,200 sqft', '800 sqft', '2,146 sqft', '1,315 sqft',\n",
       "       '1,500 sqft', '700 sqft', '600 sqft', '960 sqft', '4,200 sqft',\n",
       "       '2,250 sqft', '1,517 sqft', '6,300 sqft', '1,407 sqft',\n",
       "       '1,850 sqft', '1,150 sqft', '900 sqft', '1,975 sqft', '1,300 sqft',\n",
       "       '1,450 sqft', '950 sqft', '1,100 sqft', '2,600 sqft', '750 sqft',\n",
       "       '2,115 sqft', '3,600 sqft', '3,150 sqft', '2,100 sqft',\n",
       "       '1,319 sqft', '1,676 sqft', '1,825 sqft', '2,977 sqft', '350 sqft',\n",
       "       '1,550 sqft', '450 sqft', '1,190 sqft', '2,230 sqft', '2,280 sqft',\n",
       "       '2,197 sqft', '1,393 sqft', '1,260 sqft', '650 sqft', '1,075 sqft',\n",
       "       '9,000 sqft', '1,365 sqft', '1,165 sqft', '1,240 sqft',\n",
       "       '1,630 sqft', '1,806 sqft', '1,360 sqft', '2,170 sqft',\n",
       "       '1,370 sqft', '2,560 sqft', '1,615 sqft', '3,350 sqft',\n",
       "       '1,375 sqft', '3,500 sqft', '4,000 sqft', '1,807 sqft',\n",
       "       '1,288 sqft', '1,472 sqft', '2,595 sqft', '1,000 sqft',\n",
       "       '2,153 sqft', '1,910 sqft', '2,960 sqft', '720 sqft', '4,400 sqft',\n",
       "       '1,280 sqft', '2,350 sqft', '1,880 sqft', '3,800 sqft',\n",
       "       '1,935 sqft', '3,187 sqft', '1,520 sqft', '920 sqft', '1,911 sqft',\n",
       "       '1,532 sqft', '1,395 sqft', '2,450 sqft', '1,330 sqft',\n",
       "       '2,145 sqft', '8,000 sqft', '4,500 sqft', '1,560 sqft',\n",
       "       '1,599 sqft', '1,793 sqft', '3,300 sqft', '2,550 sqft',\n",
       "       '1,665 sqft', '16,100 sqft', '1,960 sqft', '1,495 sqft',\n",
       "       '2,210 sqft', '2,700 sqft', '2,800 sqft', '2,780 sqft',\n",
       "       '2,080 sqft', '850 sqft', '1,780 sqft', '725 sqft', '1,570 sqft',\n",
       "       '420 sqft', '1,980 sqft', '3,120 sqft', '910 sqft', '300 sqft',\n",
       "       '994 sqft', '2,373 sqft', '1,265 sqft', '1,865 sqft', '2,225 sqft',\n",
       "       '1,685 sqft', '1,171 sqft', '5,400 sqft', '1,722 sqft',\n",
       "       '4,465 sqft', '1,420 sqft', '1,680 sqft', '2,642 sqft',\n",
       "       '21,000 sqft', '1,876 sqft', '1,340 sqft', '1,233 sqft',\n",
       "       '1,160 sqft', '3,100 sqft', '2,630 sqft', '6,000 sqft', '730 sqft',\n",
       "       '1,660 sqft', '1,452 sqft', '1,275 sqft', '1,654 sqft',\n",
       "       '1,460 sqft', '1,041 sqft', '2,260 sqft', '1,230 sqft',\n",
       "       '1,114 sqft', '2,092 sqft', '2,015 sqft', '2,022 sqft',\n",
       "       '2,318 sqft', '1,175 sqft', '1,864 sqft', '1,035 sqft',\n",
       "       '1,620 sqft', '1,921 sqft', '2,650 sqft', '3,680 sqft',\n",
       "       '1,860 sqft', '2,435 sqft', '14,000 sqft', '5,000 sqft',\n",
       "       '1,180 sqft', '1,270 sqft', '3,850 sqft', '1,430 sqft',\n",
       "       '1,254 sqft', '1,510 sqft', '2,900 sqft', '1,705 sqft',\n",
       "       '1,426 sqft', '2,465 sqft', '1,425 sqft', '1,485 sqft',\n",
       "       '2,530 sqft', '2,165 sqft', '4,700 sqft', '1,129 sqft', '820 sqft',\n",
       "       '1,558 sqft', '6,500 sqft', '1,060 sqft', '930 sqft', '3,302 sqft',\n",
       "       '7,000 sqft', '1,605 sqft', '2,142 sqft', '3,305 sqft',\n",
       "       '1,734 sqft', '2,950 sqft', '1,900 sqft', '1,020 sqft',\n",
       "       '1,512 sqft', '1,785 sqft', '5,200 sqft', '1,338 sqft',\n",
       "       '1,905 sqft', '1,205 sqft', '1,470 sqft', '1,442 sqft',\n",
       "       '2,760 sqft', '2,632 sqft', '1,873 sqft', '2,850 sqft',\n",
       "       '1,285 sqft', '3,765 sqft', '3,700 sqft', '892 sqft', '1,622 sqft',\n",
       "       '1,540 sqft', '11,200 sqft', '1,080 sqft', '1,985 sqft',\n",
       "       '1,465 sqft', '2,088 sqft', '1,312 sqft', '770 sqft', '1,130 sqft',\n",
       "       '1,429 sqft', '2,510 sqft', '1,112 sqft', '1,244 sqft',\n",
       "       '1,380 sqft', '2,040 sqft', '1,325 sqft', '4,100 sqft', '760 sqft',\n",
       "       '2,296 sqft', '1,710 sqft', '1,085 sqft', '1,045 sqft',\n",
       "       '1,070 sqft', '680 sqft', '1,513 sqft', '2,575 sqft', '780 sqft',\n",
       "       '742 sqft', '1,555 sqft', '1,185 sqft', '2,619 sqft', '1,480 sqft',\n",
       "       '768 sqft', '1,440 sqft', '1,140 sqft', '1,566 sqft', '2,090 sqft',\n",
       "       '1,255 sqft', '735 sqft', '1,170 sqft', '1,155 sqft', '1,575 sqft',\n",
       "       '1,302 sqft', '1,225 sqft', '1,328 sqft', '1,345 sqft',\n",
       "       '1,320 sqft', '1,210 sqft', '1,025 sqft', '1,120 sqft', '740 sqft',\n",
       "       '1,383 sqft', '744 sqft', '1,145 sqft', '1,113 sqft', '1,133 sqft',\n",
       "       '1,231 sqft', '1,577 sqft', '2,270 sqft', '1,012 sqft',\n",
       "       '1,156 sqft', '7,500 sqft', '1,386 sqft', '1,525 sqft',\n",
       "       '1,271 sqft', '2,508 sqft', '1,040 sqft', '1,530 sqft',\n",
       "       '1,110 sqft', '1,610 sqft', '2,585 sqft', '845 sqft', '1,505 sqft',\n",
       "       '1,154 sqft', '970 sqft', '626 sqft', '765 sqft', '855 sqft',\n",
       "       '1,810 sqft', '1,065 sqft', '1,125 sqft', '1,645 sqft', '840 sqft',\n",
       "       '775 sqft', '1,030 sqft', '1,015 sqft', '1,253 sqft', '1,286 sqft',\n",
       "       '1,431 sqft', '18,000 sqft', '1,215 sqft', '2,275 sqft',\n",
       "       '1,322 sqft', '1,297 sqft', '1,117 sqft', '1,221 sqft',\n",
       "       '1,220 sqft', '1,952 sqft', '1,172 sqft', '1,625 sqft',\n",
       "       '1,435 sqft', '1,775 sqft', '3,675 sqft', '965 sqft', '1,055 sqft',\n",
       "       '520 sqft', '1,758 sqft', '1,943 sqft', '1,311 sqft', '1,720 sqft',\n",
       "       '4,800 sqft', '1,335 sqft', '2,470 sqft', '1,770 sqft',\n",
       "       '3,554 sqft', '1,104 sqft', '1,827 sqft', '1,323 sqft',\n",
       "       '1,235 sqft', '1,820 sqft', '1,553 sqft', '1,640 sqft',\n",
       "       '2,160 sqft', '752 sqft', '1,930 sqft', '620 sqft', '1,346 sqft',\n",
       "       '1,475 sqft', '1,706 sqft', '1,875 sqft', '2,148 sqft',\n",
       "       '1,331 sqft', '2,190 sqft', '4,099 sqft', '1,754 sqft',\n",
       "       '1,153 sqft', '880 sqft', '1,963 sqft', '3,720 sqft',\n",
       "       '10,000 sqft', '2,159 sqft', '1,010 sqft', '1,124 sqft',\n",
       "       '1,675 sqft', '1,390 sqft', '1,224 sqft', '1,925 sqft', '990 sqft',\n",
       "       '1,195 sqft', '1,187 sqft', '6,200 sqft', '1,166 sqft',\n",
       "       '1,304 sqft', '3,721 sqft', '1,732 sqft', '873 sqft', '823 sqft',\n",
       "       '1,523 sqft', '1,772 sqft', '940 sqft', '5,500 sqft', '1,216 sqft',\n",
       "       '2,345 sqft', '1,059 sqft', '860 sqft', '786 sqft', '824 sqft',\n",
       "       '715 sqft', '1,627 sqft', '2,540 sqft', '1,266 sqft', '2,775 sqft',\n",
       "       '1,115 sqft', '1,515 sqft', '670 sqft', '710 sqft', '2,360 sqft',\n",
       "       '755 sqft', '1,521 sqft', '1,756 sqft', '1,213 sqft', '975 sqft',\n",
       "       '1,616 sqft', '1,578 sqft', '19,360 sqft', '2,667 sqft',\n",
       "       '1,695 sqft', '3,750 sqft', '935 sqft', '3,003 sqft', '1,458 sqft',\n",
       "       '1,347 sqft', '1,308 sqft', '3,050 sqft', '1,686 sqft',\n",
       "       '3,900 sqft', '1,535 sqft', '1,740 sqft', '630 sqft', '560 sqft',\n",
       "       '1,556 sqft', '745 sqft', '785 sqft', '6,600 sqft', '1,352 sqft',\n",
       "       '375 sqft', '1,541 sqft', '1,290 sqft', '2,238 sqft', '1,565 sqft',\n",
       "       '1,409 sqft', '1,677 sqft', '751 sqft', '1,301 sqft', '3,443 sqft',\n",
       "       '4,550 sqft', '1,486 sqft', '2,839 sqft', '3,584 sqft',\n",
       "       '1,336 sqft', '31,500 sqft', '3,515 sqft', '2,004 sqft',\n",
       "       '1,762 sqft', '2,730 sqft', '2,050 sqft', '2,284 sqft',\n",
       "       '15,000 sqft', '1,990 sqft', '1,368 sqft', '3,220 sqft',\n",
       "       '2,070 sqft', '885 sqft', '6,400 sqft', '2,325 sqft', '2,195 sqft',\n",
       "       '1,552 sqft', '1,790 sqft', '1,808 sqft', '2,703 sqft',\n",
       "       '2,555 sqft', '12,000 sqft', '830 sqft', '1,436 sqft',\n",
       "       '2,365 sqft', '2,485 sqft', '3,015 sqft', '1,932 sqft',\n",
       "       '1,984 sqft', '1,449 sqft', '1,355 sqft', '1,888 sqft'],\n",
       "      dtype=object)"
      ]
     },
     "execution_count": 530,
     "metadata": {},
     "output_type": "execute_result"
    }
   ],
   "source": [
    "# Checking that data in each column are all uniform in their presentation (Area - Uniform)\n",
    "df2[\"area\"].unique()"
   ]
  },
  {
   "cell_type": "code",
   "execution_count": 531,
   "metadata": {},
   "outputs": [
    {
     "data": {
      "text/plain": [
       "array(['Block A, Bashundhara R-A, Dhaka',\n",
       "       'South Khulshi, Khulshi, Chattogram',\n",
       "       'Block F, Bashundhara R-A, Dhaka', 'Sector 9, Uttara, Dhaka',\n",
       "       'Block I, Bashundhara R-A, Dhaka', 'Gulshan 1, Gulshan, Dhaka',\n",
       "       'Sector 6, Uttara, Dhaka', 'Block K, Bashundhara R-A, Dhaka',\n",
       "       'Sector 10, Uttara, Dhaka', 'Bayazid, Chattogram',\n",
       "       'Gulshan 2, Gulshan, Dhaka', 'Sector 12, Uttara, Dhaka',\n",
       "       'Block D, Bashundhara R-A, Dhaka',\n",
       "       'Block C, Bashundhara R-A, Dhaka',\n",
       "       'Ward 23, Chowdhuripara, Khilgaon, Dhaka',\n",
       "       'Sector 3, Uttara, Dhaka', 'Banani, Dhaka', 'Dhanmondi, Dhaka',\n",
       "       'Block J, Baridhara, Dhaka', 'West Shewrapara, Mirpur, Dhaka',\n",
       "       'Block D, Mohanagar Housing, West Rampura, Rampura, Dhaka',\n",
       "       'Zakir Hossain Housing Society, South Khulshi, Khulshi, Chattogram',\n",
       "       'Banani DOHS, Dhaka', 'Block J, Bashundhara R-A, Dhaka',\n",
       "       'Khilkhet, Dhaka', 'Block C, Dhaka Uddan, Mohammadpur, Dhaka',\n",
       "       'Mohammadi Housing LTD., Mohammadpur, Dhaka',\n",
       "       'Block D, Section 2, Mirpur, Dhaka', 'Sector 13, Uttara, Dhaka',\n",
       "       'Khulshi Hill R/A, North Khulshi, Khulshi, Chattogram',\n",
       "       'Kalabagan, Dhaka',\n",
       "       'Mohammadia Housing Society, Mohammadpur, Dhaka', 'Kafrul, Dhaka',\n",
       "       'Mohakhali DOHS, Dhaka', '10 No. North Kattali Ward, Chattogram',\n",
       "       'Sector 4, Uttara, Dhaka', 'Mohammadpur, Dhaka',\n",
       "       'Kaderabad Housing Society, Katashur, Mohammadpur, Dhaka',\n",
       "       'Kamarpara, Turag, Dhaka',\n",
       "       'Block C, Bochila City Developers Ltd, Bochila, Mohammadpur, Dhaka',\n",
       "       'Khulshi, Chattogram', 'Eastern Pallabi, Pallabi, Mirpur, Dhaka',\n",
       "       'Colonel Jones Road, Colonel Hat, 10 No. North Kattali Ward, Chattogram',\n",
       "       'Block A, Chandrima Model Town, Mohammadpur, Dhaka',\n",
       "       'Nasirabad Properties Residential Area, Khulshi, Chattogram',\n",
       "       'Block K, Baridhara, Dhaka', 'Katashur, Mohammadpur, Dhaka',\n",
       "       'Merul Badda, Badda, Dhaka',\n",
       "       'PC Culture Housing, Mohammadpur, Dhaka',\n",
       "       'Section 2, Mirpur, Dhaka', 'Shantinagar, Dhaka',\n",
       "       'Pirerbag, Mirpur, Dhaka', 'Naya Paltan, Motijheel, Dhaka',\n",
       "       'Block C, Kaderabad Housing Society, Bosila, Mohammadpur, Dhaka',\n",
       "       'East Kazipara, Mirpur, Dhaka',\n",
       "       'VIP Housing Society, South Khulshi, Khulshi, Chattogram',\n",
       "       'Paharika Residential Area, South Khulshi, Khulshi, Chattogram',\n",
       "       'Block A, Section 11, Mirpur, Dhaka',\n",
       "       'Road No 2, Sector 13, Uttara, Dhaka',\n",
       "       'Boro Maghbazar, Maghbazar, Dhaka', 'Maghbazar, Dhaka',\n",
       "       'Shukrabad, Dhanmondi, Dhaka', 'Sector 11, Uttara, Dhaka',\n",
       "       'Baridhara, Dhaka',\n",
       "       'Al-Falah Housing Society, East Nasirabad, Chattogram',\n",
       "       'Cantonment, Dhaka', 'South Badda, Badda, Dhaka',\n",
       "       'Naya Nagar, Khilkhet, Dhaka', 'Tajmahal Road, Mohammadpur, Dhaka',\n",
       "       'Paikpara, Ahmed Nagar, Mirpur, Dhaka',\n",
       "       'Sector 2, Block E, Aftab Nagar, Dhaka',\n",
       "       'Faydabad, Dakshin Khan, Dhaka',\n",
       "       'Block A, Section 12, Mirpur, Dhaka',\n",
       "       'West Rampura, Rampura, Dhaka', 'Block G, Bashundhara R-A, Dhaka',\n",
       "       'Hazaribag, Dhaka', 'Avenue 6, Mirpur DOHS, Mirpur, Dhaka',\n",
       "       'Kazir Dewri, Chattogram', 'Sector 5, Uttara, Dhaka',\n",
       "       'Road No 17, Sector 7, Uttara, Dhaka',\n",
       "       'Block C, Section 2, Mirpur, Dhaka',\n",
       "       'Jalalabad Housing Society, West Khulshi, 9 No. North Pahartali Ward, Chattogram',\n",
       "       'East Ahmed Nagar, Ahmed Nagar, Mirpur, Dhaka',\n",
       "       'Bashundhara R-A, Dhaka', 'Block B, Section 13, Mirpur, Dhaka',\n",
       "       'Block A, Section 10, Mirpur, Dhaka', 'Shiddheswari, Dhaka',\n",
       "       'Block B, Section 12, Mirpur, Dhaka', 'Sector 7, Uttara, Dhaka',\n",
       "       'Mirpur, Dhaka', 'Section 13, Mirpur, Dhaka',\n",
       "       'Shantibag, Malibagh, Dhaka', 'Block H, Bashundhara R-A, Dhaka',\n",
       "       'Talertek, Khilkhet, Dhaka',\n",
       "       'Rose Valley Residential Area, 9 No. North Pahartali Ward, Chattogram',\n",
       "       'Pallabi Extension, Pallabi, Mirpur, Dhaka',\n",
       "       'Madhya Ajampur, Dakshin Khan, Dhaka',\n",
       "       'Block C, Section 6, Mirpur, Dhaka',\n",
       "       'Baitul Aman Housing Society, Adabor, Dhaka',\n",
       "       'South Banasree Project, Banasree, Dhaka', 'New Market, Dhaka',\n",
       "       'Section 1, Mirpur, Dhaka', 'Ibrahimpur, Dhaka',\n",
       "       'Block C, Section 10, Mirpur, Dhaka',\n",
       "       'Shayesta Khan Ave, Sector 4, Uttara, Dhaka',\n",
       "       'Baridhara DOHS, Dhaka', 'Hatirpool, Dhaka',\n",
       "       'West Kazipara, Mirpur, Dhaka',\n",
       "       'Janata Housing Society, Adabor, Dhaka', 'Bangshal, Dhaka',\n",
       "       'Block J, Banasree, Dhaka', 'Lalbagh Road, Lalbagh, Dhaka',\n",
       "       'Block B, Section 11, Mirpur, Dhaka',\n",
       "       'East Merul Badda, Merul Badda, Badda, Dhaka',\n",
       "       'Sholokbahar, Chattogram', 'Block J, Section 3, Mirpur, Dhaka',\n",
       "       'Block G, Banasree, Dhaka', 'Block D, Section 11, Mirpur, Dhaka',\n",
       "       'Mirpur DOHS, Mirpur, Dhaka',\n",
       "       'Mousumi Residential Area, 12 No. Sarai Para Ward, Double Mooring, Chattogram',\n",
       "       'South Monipur, Mirpur, Dhaka',\n",
       "       'Avenue 3, Mirpur DOHS, Mirpur, Dhaka',\n",
       "       'Block C, Mansurabad Housing Society, Adabor, Dhaka',\n",
       "       'Block B, Bashundhara R-A, Dhaka',\n",
       "       'Block A, Sat Masjid Housing, Mohammadpur, Dhaka',\n",
       "       'Abdur Rafique Housing Society, Shekhertek, Mohammadpur, Dhaka',\n",
       "       'Sher-E-Bangla Road, Dhanmondi, Dhaka',\n",
       "       'Manikdi, Cantonment, Dhaka',\n",
       "       'South Manikdi, Manikdi, Cantonment, Dhaka', 'Badda, Dhaka',\n",
       "       'Nurer Chala, Badda, Dhaka',\n",
       "       'Mehidibag, 15 No. Bagmoniram Ward, Chattogram',\n",
       "       'Matikata, Cantonment, Dhaka',\n",
       "       'Block B, Sugandha Residential Area, Panchlaish, Chattogram',\n",
       "       'Gandaria, Sutrapur, Dhaka', 'Middle Paikpara, Mirpur, Dhaka',\n",
       "       'Block C, Aftab Nagar, Dhaka', 'Eskaton, Dhaka',\n",
       "       'Rajabazar, Tejgaon, Dhaka', 'Polytechnic, Bayazid, Chattogram',\n",
       "       '14 No. Lalkhan Bazaar Ward, Lal Khan Bazaar, Chattogram',\n",
       "       'Road No 2, Sector 6, Uttara, Dhaka',\n",
       "       'Nasirabad Housing Society, Muradpur, Chattogram',\n",
       "       'Block H, Banasree, Dhaka', 'New Eskaton, Eskaton, Dhaka',\n",
       "       'Avenue 2, Mirpur DOHS, Mirpur, Dhaka',\n",
       "       'Block A, Section 13, Mirpur, Dhaka', 'Lalbagh, Dhaka',\n",
       "       'Block E, Section 1, Mirpur, Dhaka', 'Tejkunipara, Tejgaon, Dhaka',\n",
       "       'Zafrabad, Hazaribag, Dhaka',\n",
       "       'West Dhanmondi and Shangkar, Dhanmondi, Dhaka',\n",
       "       'Sugandha Residential Area, Panchlaish, Chattogram',\n",
       "       '1st Colony, Mirpur, Dhaka', 'Block E, Section 12, Mirpur, Dhaka',\n",
       "       'aziz Moholla, Mohammadpur, Dhaka',\n",
       "       'Block D, Section 12, Mirpur, Dhaka',\n",
       "       'Block A, Halishahar Housing Estate, 26 No. North Halishahar Ward, Halishahar, Chattogram',\n",
       "       'Jigatola, Hazaribag, Dhaka', 'Nayatola, Maghbazar, Dhaka',\n",
       "       'Dakkhin Paikpara, Mirpur, Dhaka',\n",
       "       'Block A, Nobodoy Housing Society, Mohammadpur, Dhaka',\n",
       "       'North Pirerbag, Pirerbag, Mirpur, Dhaka',\n",
       "       'North Ibrahimpur, Ibrahimpur, Dhaka',\n",
       "       'Avenue 3, Block A, Section 11, Mirpur, Dhaka',\n",
       "       'Block E, Kaderabad Housing Society, Bosila, Mohammadpur, Dhaka',\n",
       "       'Block E, Chandrima Model Town, Mohammadpur, Dhaka',\n",
       "       'Bot Tola, Khilkhet, Dhaka', 'Azimpur, Lalbagh, Dhaka',\n",
       "       'Block A, Section 6, Mirpur, Dhaka', 'Monipur, Mirpur, Dhaka',\n",
       "       'Baigertek, Cantonment, Dhaka', 'Gawair, Dakshin Khan, Dhaka',\n",
       "       'Avenue 2, Block A, Section 11, Mirpur, Dhaka',\n",
       "       '4 No Chandgaon Ward, Chattogram', 'Shyamoli, Dhaka',\n",
       "       'Fakirhat, Bandar, 36 Goshail Danga Ward, Chattogram',\n",
       "       'Kawlar, Dakshin Khan, Dhaka', 'Sector 14, Uttara, Dhaka',\n",
       "       'Block B, Nobodoy Housing Society, Mohammadpur, Dhaka',\n",
       "       'Block D, Mansurabad Housing Society, Adabor, Dhaka',\n",
       "       'Shah Ali Bag, Section 1, Mirpur, Dhaka', 'Turag, Dhaka',\n",
       "       'Rupnagar Main Road, Section 5, Mirpur, Dhaka',\n",
       "       'Block E, South Banasree Project, Banasree, Dhaka',\n",
       "       'Tolarbag, Section 1, Mirpur, Dhaka',\n",
       "       'Block C, Chandrima Model Town, Mohammadpur, Dhaka',\n",
       "       '25 No. Rampur Ward, Double Mooring, Chattogram',\n",
       "       'Section 15, Mirpur, Dhaka',\n",
       "       'Block C, Chad Uddan Housing, Mohammadpur, Dhaka',\n",
       "       'Block B, Mansurabad Housing Society, Adabor, Dhaka',\n",
       "       'Block F, aziz Moholla, Mohammadpur, Dhaka',\n",
       "       'Panchlaish Residential Area, 16 No. Chawk Bazaar Ward, Chattogram',\n",
       "       'Pallabi, Mirpur, Dhaka',\n",
       "       'Aman Bazar, 1 No. South Pahartali Ward, Hathazari, Chattogram',\n",
       "       '15 No. Bagmoniram Ward, Chattogram',\n",
       "       'Block A, Aftab Nagar, Dhaka',\n",
       "       'Dhaka Real Estate, Katashur, Mohammadpur, Dhaka',\n",
       "       'Block A, Bochila City Developers Ltd, Bochila, Mohammadpur, Dhaka',\n",
       "       'Proshanti R/A, 10 No. North Kattali Ward, Chattogram',\n",
       "       'West Nimtala, Bandar, 36 Goshail Danga Ward, Chattogram',\n",
       "       'Block C, Section 12, Mirpur, Dhaka', 'Section 7, Mirpur, Dhaka',\n",
       "       'Road No 2, Block K, Halishahar Housing Estate, 26 No. North Halishahar Ward, Halishahar, Chattogram',\n",
       "       'Bakalia, Chattogram', 'Sector 1, Uttara, Dhaka',\n",
       "       'Dampara, 14 No. Lalkhan Bazaar Ward, Lal Khan Bazaar, Chattogram',\n",
       "       'Muradpur, Chattogram', 'Kallyanpur, Mirpur, Dhaka',\n",
       "       'Chaktai, 19 No. South Bakalia Ward, Bakalia, Chattogram',\n",
       "       'Road No 3, Block K, Halishahar Housing Estate, 26 No. North Halishahar Ward, Halishahar, Chattogram',\n",
       "       'South Agrabad, Double Mooring, Chattogram',\n",
       "       'Ranavola Avenue, Sector 10, Uttara, Dhaka',\n",
       "       'Block A, Rajuk Uttara Apartment Project, Sector 18, Uttara, Dhaka',\n",
       "       'Block B, Niketan, Dhaka', 'Sector 2, Block F, Aftab Nagar, Dhaka',\n",
       "       'Block F, Section 2, Mirpur, Dhaka',\n",
       "       'Gulbag Residential Area, 24 No. North Agrabad Ward, Double Mooring, Chattogram',\n",
       "       'Kawlar Moddho Para, Kawlar, Dakshin Khan, Dhaka',\n",
       "       'Bhagalpur, Hazaribag, Dhaka', 'Agargaon, Dhaka',\n",
       "       'Block E, Lalmatia, Dhaka', 'West Dhanmondi, Dhanmondi, Dhaka',\n",
       "       'Avenue 5, Block C, Section 11, Mirpur, Dhaka',\n",
       "       'Avenue 11, Mirpur DOHS, Mirpur, Dhaka',\n",
       "       'Khaje Dewan, Lalbagh, Dhaka',\n",
       "       'Bashundhara Residential Area, 25 No. Rampur Ward, Double Mooring, Chattogram',\n",
       "       'West Agargaon, Agargaon, Dhaka',\n",
       "       'Block B, Kaderabad Housing Society, Bosila, Mohammadpur, Dhaka',\n",
       "       'Block E, Banasree, Dhaka', 'Taltola, Dhaka',\n",
       "       'Bonolota Abashik Elaka, West Agargaon, Agargaon, Dhaka',\n",
       "       'Nikunja 2, Nikunja, Dhaka',\n",
       "       'Shyamoli Housing (2nd Project), Adabor, Dhaka',\n",
       "       'Ahmed Nagar, Mirpur, Dhaka', 'Chattogram',\n",
       "       'Lake View Society, South Pirerbag, Pirerbag, Mirpur, Dhaka',\n",
       "       'Kathalbagan, Dhaka', 'East Badda, Badda, Dhaka',\n",
       "       'Motijheel, Dhaka',\n",
       "       'Shyamoli Housing, Shekhertek, Mohammadpur, Dhaka',\n",
       "       'Goltek, Cantonment, Dhaka',\n",
       "       'Block K, South Banasree Project, Banasree, Dhaka',\n",
       "       'Abedin Colony, 22 No. Enayet Bazaar Ward, Chattogram',\n",
       "       'Sabujbag, Halishahar, Chattogram',\n",
       "       'Akbarshah Railway Colony, 9 No. North Pahartali Ward, Chattogram',\n",
       "       'Middle Badda, Badda, Dhaka', '2nd Colony, Mirpur, Dhaka',\n",
       "       'Road No 1, Block H, Halishahar Housing Estate, 26 No. North Halishahar Ward, Halishahar, Chattogram',\n",
       "       'Lalmatia, Dhaka',\n",
       "       'CDA Residential Area, South Agrabad, Double Mooring, Chattogram',\n",
       "       'Dakshin Kattali, 11 No. South Kattali Ward, Chattogram',\n",
       "       '11 No. South Kattali Ward, Chattogram',\n",
       "       'Nandan Kanan, 22 No. Enayet Bazaar Ward, Chattogram',\n",
       "       'West Kafrul, Taltola, Dhaka', 'Rayer Bazaar, Hazaribag, Dhaka',\n",
       "       'Road No 5, Sector 10, Uttara, Dhaka',\n",
       "       'East Rampur, 25 No. Rampur Ward, Double Mooring, Chattogram',\n",
       "       'Nikunja 1, Nikunja, Dhaka', 'Katabon, New Market, Dhaka',\n",
       "       'Block D, Banasree, Dhaka', 'Uttara, Dhaka',\n",
       "       'Avenue 7, Mirpur DOHS, Mirpur, Dhaka',\n",
       "       'Old Eskaton, Eskaton, Dhaka', 'Vashantek, Cantonment, Dhaka',\n",
       "       'Block A, Section 2, Mirpur, Dhaka', 'Shegunbagicha, Dhaka',\n",
       "       'Avenue 8, Mirpur DOHS, Mirpur, Dhaka',\n",
       "       'East Monipur, Mirpur, Dhaka', 'East Nasirabad, Chattogram',\n",
       "       'Block C, Nobodoy Housing Society, Mohammadpur, Dhaka',\n",
       "       'Block A, Kaderabad Housing Society, Bosila, Mohammadpur, Dhaka',\n",
       "       'Section 12, Mirpur, Dhaka', 'Jamal Khan, Chattogram',\n",
       "       'Zafrabad, Dhaka', 'Dakshin Khan, Dhaka',\n",
       "       'Road No 20, Block G, Bashundhara R-A, Dhaka', 'Kuril, Dhaka',\n",
       "       'O R Nizam Road Residential Area, Nasirabad, 15 No. Bagmoniram Ward, Chattogram',\n",
       "       'Avenue 5, Mirpur DOHS, Mirpur, Dhaka',\n",
       "       'Chotopole, South Agrabad, Double Mooring, Chattogram',\n",
       "       'Green View Residential Area, 11 No. South Kattali Ward, Chattogram',\n",
       "       'Hillview Residential Area, 15 No. Bagmoniram Ward, Chattogram',\n",
       "       'Sector 15, Uttara, Dhaka',\n",
       "       'Block F, South Banasree Project, Banasree, Dhaka',\n",
       "       'Block D, Lalmatia, Dhaka', 'Namapara, Khilkhet, Dhaka',\n",
       "       '12 No. Sarai Para Ward, Double Mooring, Chattogram',\n",
       "       'Middle Monipur, Mirpur, Dhaka',\n",
       "       'Block A, Bochila Garden City, Bochila, Mohammadpur, Dhaka',\n",
       "       'Shahi Residential Area, Badurtala, Sholokbahar, Chattogram',\n",
       "       'Niketan, Dhaka',\n",
       "       'Paharika R/A, Raufabad Residential Area, Bayazid, Chattogram',\n",
       "       'Shahid Nagar, Bayazid, Chattogram',\n",
       "       'Bissaw colony, Kaibalyadham Housing Society, 9 No. North Pahartali Ward, Chattogram',\n",
       "       'Rampur, 12 No. Sarai Para Ward, Double Mooring, Chattogram',\n",
       "       'Block B, Chandrima Model Town, Mohammadpur, Dhaka',\n",
       "       'Middle Rampur, 25 No. Rampur Ward, Double Mooring, Chattogram',\n",
       "       '23 No. North Pathantooly Ward, Double Mooring, Chattogram',\n",
       "       '7 No. West Sholoshohor Ward, Chattogram',\n",
       "       '9 No. North Pahartali Ward, Chattogram',\n",
       "       'Road No 1, Jalalabad Housing Society, Chattogram',\n",
       "       'Chawk Bazar, 16 No. Chawk Bazaar Ward, Chattogram',\n",
       "       'Meradia, Khilgaon, Dhaka',\n",
       "       'Sagorika, Dakshin Kattali, 11 No. South Kattali Ward, Chattogram',\n",
       "       'Block E, Kolpolok R/A, 18 No. East Bakalia Ward, Bakalia, Chattogram',\n",
       "       'West Khulshi R/A, 9 No. North Pahartali Ward, Chattogram',\n",
       "       'Railway Colony, Chattogram', 'Dhaka',\n",
       "       'Shantibag Residential Area, 24 No. North Agrabad Ward, Double Mooring, Chattogram',\n",
       "       'Block K, Halishahar Housing Estate, 26 No. North Halishahar Ward, Halishahar, Chattogram',\n",
       "       'Kunjachaya Residential Area, Bayazid, Chattogram',\n",
       "       'Block B, Halishahar Housing Estate, 26 No. North Halishahar Ward, Halishahar, Chattogram',\n",
       "       'Block A, Arakan Housing Society, Badurtala, Sholokbahar, Chattogram',\n",
       "       'Badurtala, Sholokbahar, Chattogram',\n",
       "       'TIC Colony, Faydabad, Dakshin Khan, Dhaka',\n",
       "       'South Azampur, Dakshin Khan, Dhaka',\n",
       "       'South Pirerbag, Pirerbag, Section 1, Mirpur, Dhaka',\n",
       "       'Block D, Dakkhin Paikpara, Paikpara, Mirpur, Dhaka',\n",
       "       'East Azampur, Dakshin Khan, Dhaka',\n",
       "       'Jalalabad Housing Society, Chattogram',\n",
       "       'Double Mooring, Chattogram',\n",
       "       '16 No. Chawk Bazaar Ward, Chattogram',\n",
       "       'Block B, Dolipara, Uttara, Dhaka',\n",
       "       'West Bepari Para, South Agrabad, Double Mooring, Chattogram',\n",
       "       '24 No. North Agrabad Ward, Double Mooring, Chattogram',\n",
       "       'Steel Mill, 40 No. North Patenga Ward, Patenga, Chattogram',\n",
       "       'Agrabad Golden Complex, 25 No. Rampur Ward, Double Mooring, Chattogram',\n",
       "       'Agrabad Housing Residential Area, 24 No. North Agrabad Ward, Double Mooring, Chattogram',\n",
       "       'CEPZ, Bandartila, 39 No. South Halishahar Ward, Halishahar, Chattogram',\n",
       "       'Road No 2, Block L, Halishahar Housing Estate, 26 No. North Halishahar Ward, Halishahar, Chattogram',\n",
       "       'Bandartila, 39 No. South Halishahar Ward, Halishahar, Chattogram',\n",
       "       '6 No East Sholoshohor Ward, Bakalia, Chattogram',\n",
       "       'Ashkona, Dakshin Khan, Dhaka', 'Uttar Khan, Dhaka',\n",
       "       'Solmaid, Badda, Dhaka',\n",
       "       'Saraipara, 12 No. Sarai Para Ward, Double Mooring, Chattogram',\n",
       "       'Tejturi Bazar, Tejgaon, Dhaka', 'East Bashabo, Bashabo, Dhaka',\n",
       "       'Block B, Kolpolok R/A, 18 No. East Bakalia Ward, Bakalia, Chattogram',\n",
       "       '39 No. South Halishahar Ward, Halishahar, Chattogram',\n",
       "       'Halishahar, Chattogram',\n",
       "       'Karnaphuly Abashik Elaka, 25 No. Rampur Ward, Double Mooring, Chattogram',\n",
       "       'Road No 1, Block B, Kolpolok R/A, 18 No. East Bakalia Ward, Bakalia, Chattogram',\n",
       "       '4 No. South Nalapara, 30 No. East Madarbari Ward, Chattogram',\n",
       "       '30 No. East Madarbari Ward, Chattogram', 'Shahjahanpur, Dhaka',\n",
       "       'Road No 1, Block L, Halishahar Housing Estate, 26 No. North Halishahar Ward, Halishahar, Chattogram',\n",
       "       'South Mollartek, Dakshin Khan, Dhaka',\n",
       "       'Uttar Badda, Badda, Dhaka',\n",
       "       'Block B, Hill View R/A, Bayazid, Chattogram',\n",
       "       'Green Valley, Bayazid, Chattogram',\n",
       "       'School Road, Mohakhali, Dhaka',\n",
       "       '29 No. West Madarbari Ward, Chattogram',\n",
       "       'Shyamol Chhaya Residential Area, Chadra Nagar, Bayazid, Chattogram',\n",
       "       'Pahartali, 11 No. South Kattali Ward, Chattogram',\n",
       "       'Senpara Parbata, Section 10, Mirpur, Dhaka',\n",
       "       'Ali Nagar, Bayazid, Chattogram',\n",
       "       'Majhirghat Road, 30 No. East Madarbari Ward, Chattogram',\n",
       "       'Munshi Para, Munir Nagar, 37 No. North-Middle Halishahar Ward, Halishahar, Chattogram',\n",
       "       'Block A, Hill View R/A, Bayazid, Chattogram',\n",
       "       'Eidgah, East Rampur, 25 No. Rampur Ward, Double Mooring, Chattogram',\n",
       "       '33 No. Firingee Bazaar Ward, Chattogram',\n",
       "       'Block G, Halishahar Housing Estate, 26 No. North Halishahar Ward, Halishahar, Chattogram',\n",
       "       'B-Block Chandgaon R/A, Chandgaon Residential Area, 4 No Chandgaon Ward, Chattogram',\n",
       "       'Road No 1, Block D, Kolpolok R/A, 18 No. East Bakalia Ward, Bakalia, Chattogram',\n",
       "       'Block L, Bashundhara R-A, Dhaka',\n",
       "       '32 No. Andarkilla Ward, Chattogram', 'Farmgate, Tejgaon, Dhaka',\n",
       "       'Bangla Bazar, Bayazid, Chattogram', 'Tikatuli, Sutrapur, Dhaka',\n",
       "       'Uttar Nath Para, Pahartali, 11 No. South Kattali Ward, Chattogram',\n",
       "       'Dewan Bazar, Bakalia, Chattogram',\n",
       "       'Block D, Kolpolok R/A, 18 No. East Bakalia Ward, Bakalia, Chattogram',\n",
       "       'East Mollartek, Dakshin Khan, Dhaka',\n",
       "       'Kadamtali, 23 No. North Pathantooly Ward, Double Mooring, Chattogram',\n",
       "       'Padma Residential Area, 24 No. North Agrabad Ward, Double Mooring, Chattogram',\n",
       "       'Muhuri Para, 24 No. North Agrabad Ward, Double Mooring, Chattogram',\n",
       "       'Sonali Residential Area, 25 No. Rampur Ward, Double Mooring, Chattogram',\n",
       "       '27 No. South Agrabad Ward, Double Mooring, Chattogram',\n",
       "       'Gosaildanga, 36 Goshail Danga Ward, Chattogram',\n",
       "       'Ullan, Rampura, Dhaka', 'Paikpara, Mirpur, Dhaka',\n",
       "       'A-Block Chandgaon R/A, Chandgaon Residential Area, 4 No Chandgaon Ward, Chattogram',\n",
       "       'Road No 1, Block B, Halishahar Housing Estate, 26 No. North Halishahar Ward, Halishahar, Chattogram',\n",
       "       'Naya Bazar, 25 No. Rampur Ward, Double Mooring, Chattogram',\n",
       "       'Block A, Somobay Residential Area, Bayazid, Chattogram',\n",
       "       'West Mollartek, Dakshin Khan, Dhaka',\n",
       "       'Block B, Dakkhin Paikpara, Paikpara, Mirpur, Dhaka',\n",
       "       'Aainusbag, Dakshin Khan, Dhaka', 'Joar Sahara, Dhaka',\n",
       "       'Uttar Kattali, Chattogram',\n",
       "       'Jangalpara, 7 No. West Sholoshohor Ward, Chattogram',\n",
       "       'Halishahar Housing Estate, 26 No. North Halishahar Ward, Halishahar, Chattogram',\n",
       "       'Haji Islam Mia Brick Field Road, Chotopole, South Agrabad, Double Mooring, Chattogram',\n",
       "       'Taltola, Bandartila, 38 No. South Middle Halishahar, Halishahar, Chattogram',\n",
       "       'Halishahar Cantonment, 26 No. North Halishahar Ward, Halishahar, Chattogram',\n",
       "       'Kalachandpur, Dhaka', 'Pirerbag, Section 1, Mirpur, Dhaka',\n",
       "       'Chandrima, Chandgaon Residential Area, 4 No Chandgaon Ward, Chattogram',\n",
       "       'Bayazid Nagar Residential Area, Bayazid, Chattogram',\n",
       "       'East Rampura, Rampura, Dhaka',\n",
       "       'Ashkar Dighir Par, Jamal Khan, Chattogram',\n",
       "       'Nayarhat, 3 No. Panchlaish Ward, Bayazid, Chattogram',\n",
       "       'Tejgaon, Dhaka', 'Block F, Banasree, Dhaka',\n",
       "       'Janata Housing, Shah Ali Bag, Section 1, Mirpur, Dhaka',\n",
       "       'Block C, Mohanagar Housing, West Rampura, Rampura, Dhaka',\n",
       "       'Block J, Halishahar Housing Estate, 26 No. North Halishahar Ward, Halishahar, Chattogram',\n",
       "       'Kapuriya Para, 28 No. Pathantooly Ward, Double Mooring, Chattogram',\n",
       "       'Pahartali, 12 No. Sarai Para Ward, Double Mooring, Chattogram',\n",
       "       'Jagannathpur, Badda, Dhaka',\n",
       "       'Dampara, 15 No. Bagmoniram Ward, Chattogram',\n",
       "       'Priyanka City, Sector 12, Uttara, Dhaka',\n",
       "       'Block D, Aftab Nagar, Dhaka',\n",
       "       'Kamrabad Road, Aturar Depo, Bayazid, Chattogram',\n",
       "       'Taltola, Agargaon, Dhaka',\n",
       "       'Block A, Rahman Nagar, Nasirabad, Bayazid, Chattogram',\n",
       "       'Block E, Bashundhara R-A, Dhaka', 'Kazibari, Dakshin Khan, Dhaka',\n",
       "       'North Shahjahanpur, Dhaka',\n",
       "       'Block C, Hill View R/A, Bayazid, Chattogram',\n",
       "       'Bepari Para, Oxygen, Bayazid, Chattogram', 'Rampura, Dhaka',\n",
       "       'Gulbag, Malibagh, Dhaka',\n",
       "       'Cosmopolitan R/A, 7 No. West Sholoshohor Ward, Chattogram',\n",
       "       'Lake Valley R/A, 9 No. North Pahartali Ward, Chattogram',\n",
       "       'Devpahar, Chawk Bazar, 16 No. Chawk Bazaar Ward, Chattogram',\n",
       "       'Bangladesh Co-operative Housing Society, Bayazid, Chattogram',\n",
       "       'East Nakhalpara, Tejgaon, Dhaka',\n",
       "       'Jahuri Moholla, Mohammadpur, Dhaka',\n",
       "       'Bahaddarhat, 4 No Chandgaon Ward, Chattogram',\n",
       "       'Road No 2, Block B, Halishahar Housing Estate, 26 No. North Halishahar Ward, Halishahar, Chattogram',\n",
       "       'CDA Residential Area, Colonel Hat, 10 No. North Kattali Ward, Chattogram',\n",
       "       'CDA R/A, 10 No. North Kattali Ward, Chattogram',\n",
       "       'East Shewrapara, Mirpur, Dhaka', 'Block H, Aftab Nagar, Dhaka',\n",
       "       'Block D, Section 6, Mirpur, Dhaka',\n",
       "       'Sunibir Housing Society, Adabor, Dhaka', 'Malibagh, Dhaka',\n",
       "       'Block E, Aftab Nagar, Dhaka',\n",
       "       'Khulshi Green Housing Society, Khulshi, Chattogram',\n",
       "       'Hossain Ahmed Para, 40 No. North Patenga Ward, Patenga, Chattogram',\n",
       "       'Ullan, West Rampura, Rampura, Dhaka', 'Shahjadpur, Badda, Dhaka',\n",
       "       'Katalganj Residential Area, 16 No. Chawk Bazaar Ward, Chattogram',\n",
       "       'Dakkhin Paikpara, Paikpara, Mirpur, Dhaka',\n",
       "       'Road No 1, Block B, South Khulshi Residential Area, South Khulshi, Khulshi, Chattogram',\n",
       "       'Chakroshow Kanon Residential Area, Bayazid, Chattogram',\n",
       "       'West Monipur, Mirpur, Dhaka',\n",
       "       'Road No 5, Block A, Halishahar Housing Estate, 26 No. North Halishahar Ward, Halishahar, Chattogram',\n",
       "       'Block B, Section 6, Mirpur, Dhaka',\n",
       "       'East Hazipara, East Rampura, Rampura, Dhaka',\n",
       "       'Raufabad Residential Area, Bayazid, Chattogram',\n",
       "       'Hill View R/A, Bayazid, Chattogram',\n",
       "       'Chadra Nagar, Bayazid, Chattogram', 'Vatara, Badda, Dhaka',\n",
       "       'Notunbag, Taltola, Khilgaon, Dhaka',\n",
       "       'Kolpolok R/A, 18 No. East Bakalia Ward, Bakalia, Chattogram',\n",
       "       'Jashimuddin Avenue, Dolipara, Uttara, Dhaka',\n",
       "       'Jamtola, Kawlar, Dakshin Khan, Dhaka',\n",
       "       'West Firojshah colony, 9 No. North Pahartali Ward, Chattogram',\n",
       "       'Block C, Banasree, Dhaka', 'Taltola, Khilgaon, Dhaka',\n",
       "       'Khilgaon, Dhaka', 'Block B, Aftab Nagar, Dhaka',\n",
       "       'Block TA, Section 6, Mirpur, Dhaka',\n",
       "       'Janata Housing, Sher- E- Banglanagar, West Agargaon, Agargaon, Dhaka',\n",
       "       'Road No 2, Block H, Halishahar Housing Estate, 26 No. North Halishahar Ward, Halishahar, Chattogram',\n",
       "       'Faydabad, East Azampur, Dakshin Khan, Dhaka',\n",
       "       'Sector 1, Block D, Aftab Nagar, Dhaka',\n",
       "       'Green View Housing Society, Oxygen, Bayazid, Chattogram',\n",
       "       'Bashabo, Dhaka', 'Mirpur Road, New Market, Dhaka',\n",
       "       'Block D, Eastern Housing, Pallabi, Mirpur, Dhaka',\n",
       "       'Block A, Banasree, Dhaka', 'North Goran, Goran, Khilgaon, Dhaka',\n",
       "       'Block C, Khilgaon, Dhaka',\n",
       "       'Gudaraghat, Middle Badda, Badda, Dhaka',\n",
       "       'Block B, Banasree, Dhaka',\n",
       "       'Muzaffarnagar Residential Area, Polytechnic, Bayazid, Chattogram',\n",
       "       'Foys Lake, 9 No. North Pahartali Ward, Chattogram',\n",
       "       'Patharghata, Kotwali, Chattogram', 'Section 10, Mirpur, Dhaka',\n",
       "       'South Baridhara Residential Area,D. I. T. Project, Badda, Dhaka',\n",
       "       'Jamtola, Khilkhet, Dhaka', 'Nowapara, Dakshin Khan, Dhaka',\n",
       "       'Block C1, Sector 15, Uttara, Dhaka',\n",
       "       'Sher-E-Bangla Avenue, Dolipara, Uttara, Dhaka',\n",
       "       'North Gawair, Gawair, Dakshin Khan, Dhaka',\n",
       "       'Dewanhat, 23 No. North Pathantooly Ward, Double Mooring, Chattogram',\n",
       "       'New I Block, Halishahar Housing Estate, 26 No. North Halishahar Ward, Halishahar, Chattogram',\n",
       "       'Mollapara, 24 No. North Agrabad Ward, Double Mooring, Chattogram',\n",
       "       'Munir Nagar, 37 No. North-Middle Halishahar Ward, Halishahar, Chattogram',\n",
       "       'Noapara, 9 No. North Pahartali Ward, Chattogram',\n",
       "       'Abdul Hamid Road, Foys Lake, 9 No. North Pahartali Ward, Chattogram',\n",
       "       'Beverly Hill Housing Estate, Chawk Bazar, 16 No. Chawk Bazaar Ward, Chattogram',\n",
       "       'Dhorangartek, Turag, Dhaka',\n",
       "       'Block B, Notunbag, Taltola, Khilgaon, Dhaka',\n",
       "       'West Kafrul, Taltola, Agargaon, Dhaka',\n",
       "       'East Namapara, Namapara, Khilkhet, Dhaka',\n",
       "       'South Goran, Goran, Khilgaon, Dhaka',\n",
       "       'Tilpapara, Khilgaon, Dhaka',\n",
       "       '22 No. Enayet Bazaar Ward, Chattogram',\n",
       "       'Block D, Kaderabad Housing Society, Bosila, Mohammadpur, Dhaka',\n",
       "       'Tayebiyea Housing Society, Shahid Nagar, Bayazid, Chattogram',\n",
       "       'Road No 1, Block A, Kolpolok R/A, 18 No. East Bakalia Ward, Bakalia, Chattogram',\n",
       "       'Block B, Rahman Nagar, Nasirabad, Bayazid, Chattogram',\n",
       "       'Wari, Sutrapur, Dhaka', 'West Kalachandpur, Kalachandpur, Dhaka',\n",
       "       'Khilbari Tek, Badda, Dhaka',\n",
       "       'Amirbag Residential Area, 15 No. Bagmoniram Ward, Chattogram',\n",
       "       'Adabor, Dhaka',\n",
       "       'Block D, Sugandha Residential Area, Panchlaish, Chattogram',\n",
       "       'Ghasiya Para Road, K. B. Aman Ali Road, Bakalia, Chattogram',\n",
       "       'Block M, Banasree, Dhaka',\n",
       "       'Nasirabad, 15 No. Bagmoniram Ward, Chattogram',\n",
       "       'Koylar Ghar, Oxygen, Bayazid, Chattogram',\n",
       "       'Askarabad, Dewanhat, 24 No. North Agrabad Ward, Double Mooring, Chattogram',\n",
       "       'Block L, South Banasree Project, Banasree, Dhaka',\n",
       "       'South Kallyanpur, Kallyanpur, Mirpur, Dhaka',\n",
       "       'Bandartila, 38 No. South Middle Halishahar, Halishahar, Chattogram',\n",
       "       'Masjid Lane Society, Sholokbahar, Chattogram',\n",
       "       'Oxygen Residential Area, Oxygen, Bayazid, Chattogram',\n",
       "       'Shamoly Residential Area, 24 No. North Agrabad Ward, Double Mooring, Chattogram',\n",
       "       'Rongipara, 24 No. North Agrabad Ward, Double Mooring, Chattogram',\n",
       "       'Block B, Rupnagar Residential Area, Wazedia, 3 No. Panchlaish Ward, Bayazid, Chattogram',\n",
       "       'Purana Paltan, Motijheel, Dhaka',\n",
       "       '1 No. South Pahartali Ward, Hathazari, Chattogram',\n",
       "       'Oxygen, Bayazid, Chattogram',\n",
       "       'Road No 1, CDA Residential Area, Colonel Hat, 10 No. North Kattali Ward, Chattogram',\n",
       "       'Tilpapara Road, Tilpapara, Khilgaon, Dhaka',\n",
       "       'Block J, South Banasree Project, Banasree, Dhaka',\n",
       "       'Block B, Sayednagar, East Vatara, Vatara, Badda, Dhaka',\n",
       "       'Badamtol, 4 No Chandgaon Ward, Chattogram',\n",
       "       'Rahattar Pul, Bakalia, Chattogram',\n",
       "       'Green Valley Housing Society, South Khulshi, Khulshi, Chattogram',\n",
       "       'South Bashabo, Bashabo, Dhaka', 'Paribagh, Dhaka',\n",
       "       'North Pirerbag, Pirerbag, Section 1, Mirpur, Dhaka',\n",
       "       'Mansurabad Housing Society, Adabor, Dhaka',\n",
       "       'Muslimabad, Kathgar, 40 No. North Patenga Ward, Patenga, Chattogram',\n",
       "       'Mohammad Nagar, Bayazid, Chattogram',\n",
       "       'Block H, Halishahar Housing Estate, 26 No. North Halishahar Ward, Halishahar, Chattogram',\n",
       "       'Block B, Chad Uddan Housing, Mohammadpur, Dhaka',\n",
       "       'Abdullahbag, Uttar Badda, Badda, Dhaka',\n",
       "       'Block B, Eastern Housing, Pallabi, Mirpur, Dhaka',\n",
       "       'Mirzapul, Sholokbahar, Chattogram',\n",
       "       'Baluchara Residential Area, Baluchara, Bayazid, Chattogram',\n",
       "       'Bepari Para, Khilkhet, Dhaka', 'Adarsha Para, Uttar Khan, Dhaka',\n",
       "       'Shadhinata Sharani, Uttar Badda, Badda, Dhaka',\n",
       "       'Haji Muzaffar Ahmed Chowdhury Sharok, Muzaffarnagar Residential Area, Polytechnic, Bayazid, Chattogram',\n",
       "       'North Azampur, Dakshin Khan, Dhaka',\n",
       "       'Korom Para, 6 No East Sholoshohor Ward, Bakalia, Chattogram',\n",
       "       'North Adabor, Adabor, Dhaka',\n",
       "       'North Manikdi, Manikdi, Cantonment, Dhaka',\n",
       "       'Block A, Sugandha Residential Area, Panchlaish, Chattogram',\n",
       "       '38 No. South Middle Halishahar, Halishahar, Chattogram',\n",
       "       'Bandar, 36 Goshail Danga Ward, Chattogram',\n",
       "       'Eshan Mistry Hat, Bandartila, 38 No. South Middle Halishahar, Halishahar, Chattogram',\n",
       "       'Road No 12, Sector 4, Uttara, Dhaka',\n",
       "       'West Hossain Ahmed Para, Hossain Ahmed Para, 40 No. North Patenga Ward, Patenga, Chattogram',\n",
       "       'Faidabad Garden City, Faydabad, Dakshin Khan, Dhaka',\n",
       "       'Muhuri Para Residential Area, 24 No. North Agrabad Ward, Double Mooring, Chattogram',\n",
       "       'Block D, Dolipara, Uttara, Dhaka',\n",
       "       'Chasma Hill R/A, 7 No. West Sholoshohor Ward, Chattogram',\n",
       "       '17 No West Bakalia Ward, Bakalia, Chattogram',\n",
       "       'West Shahid Nagar, Oxygen, Bayazid, Chattogram',\n",
       "       'Chalabon, Dakshin Khan, Dhaka', 'Riaj Uddin Bazar, Chattogram',\n",
       "       'Sector 1, Block G, Aftab Nagar, Dhaka',\n",
       "       'Monsurabad, 24 No. North Agrabad Ward, Double Mooring, Chattogram',\n",
       "       'Block M, South Banasree Project, Banasree, Dhaka',\n",
       "       'North Forida Para, 4 No Chandgaon Ward, Chattogram',\n",
       "       '28 No. Pathantooly Ward, Double Mooring, Chattogram',\n",
       "       'Sector 2, Block D, Aftab Nagar, Dhaka',\n",
       "       'Khejur Tola, Hossain Ahmed Para, 40 No. North Patenga Ward, Patenga, Chattogram',\n",
       "       'Block F, Eastern Housing, Pallabi, Mirpur, Dhaka',\n",
       "       'Bochila Garden City, Bochila, Mohammadpur, Dhaka',\n",
       "       'Road No 2, Block G, Halishahar Housing Estate, 26 No. North Halishahar Ward, Halishahar, Chattogram',\n",
       "       'Bamoil, Sarulia, Demra, Dhaka',\n",
       "       '36 Goshail Danga Ward, Chattogram',\n",
       "       'South Jatra Bari, Jatra Bari, Dhaka',\n",
       "       '40 No. North Patenga Ward, Patenga, Chattogram',\n",
       "       'Halishahar Road, South Agrabad, Double Mooring, Chattogram',\n",
       "       'Gojmohal, Hazaribag, Dhaka',\n",
       "       'Ramna Residential Area, Rongipara, 24 No. North Agrabad Ward, Double Mooring, Chattogram',\n",
       "       'Bangladesh Bank Colony, 27 No. South Agrabad Ward, Double Mooring, Chattogram',\n",
       "       'Rupashi Housing Society, Polytechnic, Bayazid, Chattogram',\n",
       "       'Block A, Dhaka Uddan, Mohammadpur, Dhaka',\n",
       "       'Block H, Halishahar, Chattogram',\n",
       "       'East Manikdi, Manikdi, Cantonment, Dhaka',\n",
       "       'Road No 1, Sector 6, Uttara, Dhaka',\n",
       "       'Bochila, Mohammadpur, Dhaka',\n",
       "       'Block B, Mohanagar Housing, West Rampura, Rampura, Dhaka',\n",
       "       'North Green View R/A, 11 No. South Kattali Ward, Chattogram',\n",
       "       'Block G/1, Section 2, Mirpur, Dhaka',\n",
       "       'Naddapara, Dakshin Khan, Dhaka', 'Moushair, Dakshin Khan, Dhaka',\n",
       "       'Haji Mokbul Ahmed Housing Society, Hossain Ahmed Para, 40 No. North Patenga Ward, Patenga, Chattogram',\n",
       "       'Road No 3, Bashundhara Residential Area, 25 No. Rampur Ward, Double Mooring, Chattogram',\n",
       "       'C & B Colony, East Nasirabad, Chattogram',\n",
       "       'Rupali Residential Area, 4 No Chandgaon Ward, Chattogram',\n",
       "       'Ring Road, Shyamoli, Dhaka',\n",
       "       'South Chalabon, Dakshin Khan, Dhaka',\n",
       "       'Nasirabad C and B Colony, Chattogram',\n",
       "       'New  A Block, 26 No. North Halishahar Ward, Halishahar, Chattogram',\n",
       "       'South Bishil, Section 1, Mirpur, Dhaka',\n",
       "       'Moddhopara, Ashkona, Dakshin Khan, Dhaka',\n",
       "       'Block TA, Section 12, Mirpur, Dhaka',\n",
       "       'Bepari Para, 24 No. North Agrabad Ward, Double Mooring, Chattogram',\n",
       "       'Comfort Housing, Adabor, Dhaka',\n",
       "       'Kunipara, Tejgaon Industrial Area, Tejgaon, Dhaka',\n",
       "       'Kathgar, 40 No. North Patenga Ward, Patenga, Chattogram',\n",
       "       'Taltola, Dakshin Khan, Dhaka', 'Shahbagh, Dhaka',\n",
       "       '3 No. Panchlaish Ward, Bayazid, Chattogram',\n",
       "       'Hajipara, 24 No. North Agrabad Ward, Double Mooring, Chattogram',\n",
       "       'Block C, Niketan, Dhaka',\n",
       "       'North Shahjahanpur, Shahjahanpur, Dhaka',\n",
       "       'Barontek, Cantonment, Dhaka', 'Aturar Depo, Bayazid, Chattogram',\n",
       "       'Mukti Polli, Khilbari Tek, Badda, Dhaka', 'Kachukhet, Dhaka',\n",
       "       'Uttar Para, Khilkhet, Dhaka', 'Naya Nagar, Vatara, Badda, Dhaka',\n",
       "       'Mimi R/A, Nasirabad, 15 No. Bagmoniram Ward, Chattogram',\n",
       "       'Middle Bashabo, Bashabo, Dhaka',\n",
       "       'Hill View R/A, Nasirabad, 15 No. Bagmoniram Ward, Chattogram',\n",
       "       'Goran, Khilgaon, Dhaka', 'Nasirabad, Chattogram',\n",
       "       'Sector 1, Block F, Aftab Nagar, Dhaka',\n",
       "       'CDA New Chandgaon R/A, Bahaddarhat, 4 No Chandgaon Ward, Chattogram',\n",
       "       'Block C, Kolpolok R/A, 18 No. East Bakalia Ward, Bakalia, Chattogram',\n",
       "       'Bakshi Bazar, Lalbagh, Dhaka',\n",
       "       'Block G, Section 2, Mirpur, Dhaka',\n",
       "       'Block I, Halishahar Housing Estate, 26 No. North Halishahar Ward, Halishahar, Chattogram',\n",
       "       'Chattogram DOHS, Bayazid, Chattogram',\n",
       "       'Block C, Section 13, Mirpur, Dhaka',\n",
       "       'Baro Quarter, Pahartali, 12 No. Sarai Para Ward, Double Mooring, Chattogram',\n",
       "       'Boatghat, Namapara, Khilkhet, Dhaka',\n",
       "       'Block D2, Section 10, Mirpur, Dhaka',\n",
       "       'Muslimabad Road, Muslimabad, Kathgar, 40 No. North Patenga Ward, Patenga, Chattogram',\n",
       "       'Kha Para, Khilkhet, Dhaka', 'Moddo Para, Khilkhet, Dhaka',\n",
       "       'Panchlaish, Chattogram', 'Indira Road, Tejgaon, Dhaka',\n",
       "       'New Mooring, Halishahar, Chattogram',\n",
       "       'Arakan Housing Society Road, Sholokbahar, Chattogram',\n",
       "       'Block L, Halishahar Housing Estate, 26 No. North Halishahar Ward, Halishahar, Chattogram',\n",
       "       'Momin Bagh R/A, Ali Nagar, Bayazid, Chattogram',\n",
       "       'Mohakhali, Dhaka', 'Goaltek, Faydabad, Dakshin Khan, Dhaka',\n",
       "       'K. B. Aman Ali Road, Bakalia, Chattogram',\n",
       "       '31 No. Alkoron Ward, Chattogram',\n",
       "       'Madani Avenue, Natun Bazar, Badda, Dhaka',\n",
       "       'Block B, South Khulshi Residential Area, South Khulshi, Khulshi, Chattogram',\n",
       "       'Block A, Mansurabad Housing Society, Adabor, Dhaka',\n",
       "       'Banasree, Dhaka', 'Block F, Lalmatia, Dhaka',\n",
       "       'Rupnagar R/A, Mirpur, Dhaka', 'Moneshwar, Hazaribag, Dhaka',\n",
       "       'Anandadhara R/A, Sabujbag, Halishahar, Chattogram',\n",
       "       'Block G, Section 1, Mirpur, Dhaka', 'Block A, Niketan, Dhaka',\n",
       "       'Jhilpar, Middle Pirerbag, Pirerbag, Mirpur, Dhaka',\n",
       "       'Avenue 3, Block B, Section 11, Mirpur, Dhaka',\n",
       "       'Vhatara Road, Natun Bazar, Badda, Dhaka',\n",
       "       'Satarkul, Uttar Badda, Badda, Dhaka',\n",
       "       'Monipuripara, Tejgaon, Dhaka', 'Block D, Niketan, Dhaka',\n",
       "       'Boshoty Housing, Borobag, Section 2, Mirpur, Dhaka',\n",
       "       'Arambag Residential Area, Mirpur, Dhaka',\n",
       "       'Block B, Pallabi, Mirpur, Dhaka',\n",
       "       'Avenue 1, Mirpur DOHS, Mirpur, Dhaka',\n",
       "       'Modhubag, Boro Maghbazar, Maghbazar, Dhaka'], dtype=object)"
      ]
     },
     "execution_count": 531,
     "metadata": {},
     "output_type": "execute_result"
    }
   ],
   "source": [
    "# Checking that data in each column are all uniform in their presentation (Adress - Uniform)\n",
    "df2[\"adress\"].unique()"
   ]
  },
  {
   "cell_type": "code",
   "execution_count": 532,
   "metadata": {},
   "outputs": [
    {
     "data": {
      "text/plain": [
       "array(['50 Thousand', '30 Thousand', '35 Thousand', '25 Thousand',\n",
       "       '1.1 Lakh', '23 Thousand', '40 Thousand', '20 Thousand',\n",
       "       '2.5 Lakh', '1.2 Lakh', '21 Thousand', '60 Thousand',\n",
       "       '28 Thousand', '75 Thousand', '55 Thousand', '12 Thousand',\n",
       "       '2 Lakh', '10 Thousand', '18 Thousand', '1.5 Lakh', '85 Thousand',\n",
       "       '70 Thousand', '43 Thousand', '1 Lakh', '80 Thousand',\n",
       "       '45 Thousand', '26 Thousand', '16 Thousand', '14.5 Thousand',\n",
       "       '14 Thousand', '15 Thousand', '90 Thousand', '4 Lakh', '3.5 Lakh',\n",
       "       '27 Thousand', '22 Thousand', '15.5 Thousand', '95 Thousand',\n",
       "       '42 Thousand', '13 Thousand', '11.5 Thousand', '7.3 Thousand',\n",
       "       '1.7 Lakh', '36 Thousand', '32 Thousand', '17 Thousand',\n",
       "       '13.5 Thousand', '34 Thousand', '1.8 Lakh', '65 Thousand',\n",
       "       '1.65 Lakh', '19 Thousand', '18.6 Thousand', '1.3 Lakh',\n",
       "       '4.2 Lakh', '47 Thousand', '72 Thousand', '1.6 Lakh', '2.8 Lakh',\n",
       "       '1.4 Lakh', '9 Thousand', '1.25 Lakh', '3 Lakh', '37 Thousand',\n",
       "       '16.5 Thousand', '9.5 Thousand', '33 Thousand', '4.5 Lakh',\n",
       "       '63 Thousand', '10 Lakh', '11 Thousand', '19.05 Thousand',\n",
       "       '12.5 Thousand', '38 Thousand', '17.5 Thousand', '1.35 Lakh',\n",
       "       '1.9 Lakh', '24 Thousand', '35.5 Thousand', '6 Thousand',\n",
       "       '18.5 Thousand', '5 Lakh', '7 Lakh', '39 Thousand', '8 Thousand',\n",
       "       '5.5 Thousand', '71 Thousand', '31 Thousand', '12.8 Thousand',\n",
       "       '52 Thousand', '1.15 Lakh', '2.2 Lakh', '46 Thousand', '2.9 Lakh',\n",
       "       '58 Thousand', '2.15 Lakh', '88 Thousand', '11.3 Thousand',\n",
       "       '57 Thousand', '2.3 Lakh', '1.85 Lakh', '2.6 Lakh', '3.2 Lakh',\n",
       "       '3.3 Lakh', '6 Lakh', '10.5 Thousand', '29.5 Thousand',\n",
       "       '8.5 Thousand', '17.24 Thousand', '3.4 Lakh', '29 Thousand',\n",
       "       '3.6 Lakh', '20.2 Thousand', '20.5 Thousand', '44 Thousand',\n",
       "       '13.2 Thousand', '25.5 Thousand', '26.5 Thousand', '10.2 Thousand',\n",
       "       '11.01 Thousand', '6.5 Thousand', '28.5 Thousand', '21.5 Thousand',\n",
       "       '10.7 Thousand', '9.5 Lakh', '32.5 Thousand', '18.8 Thousand',\n",
       "       '18.3 Thousand', '33.2 Thousand', '8.2 Thousand', '7 Thousand',\n",
       "       '6.2 Thousand', '22.5 Thousand', '7.5 Thousand', '16.6 Lakh',\n",
       "       '11.8 Thousand', '11.7 Thousand', '23.5 Thousand', '2.4 Lakh',\n",
       "       '19.3 Thousand', '18.4 Thousand', '10.6 Thousand', '16.3 Thousand',\n",
       "       '20 Lakh', '68 Thousand', '59 Thousand', '9.24 Lakh', '1.37 Lakh',\n",
       "       '78 Thousand', '3.25 Lakh', '5.5 Lakh', '1.05 Lakh', '6.5 Lakh',\n",
       "       '8 Lakh', '1.45 Lakh', '7.5 Lakh', '1.75 Lakh'], dtype=object)"
      ]
     },
     "execution_count": 532,
     "metadata": {},
     "output_type": "execute_result"
    }
   ],
   "source": [
    "# Checking that data in each column are all uniform in their presentation (Price - Not uniform - Need to convert Lakh to Thousands)\n",
    "df2[\"price\"].unique()"
   ]
  },
  {
   "attachments": {},
   "cell_type": "markdown",
   "metadata": {},
   "source": [
    "###### Changing presentation of unique values"
   ]
  },
  {
   "cell_type": "code",
   "execution_count": 533,
   "metadata": {},
   "outputs": [],
   "source": [
    "df3 = df2.copy()"
   ]
  },
  {
   "cell_type": "code",
   "execution_count": 534,
   "metadata": {},
   "outputs": [
    {
     "data": {
      "text/plain": [
       "0    3\n",
       "1    3\n",
       "2    3\n",
       "3    3\n",
       "4    3\n",
       "Name: beds, dtype: int64"
      ]
     },
     "execution_count": 534,
     "metadata": {},
     "output_type": "execute_result"
    }
   ],
   "source": [
    "# Changing beds to uniform presentation\n",
    "df3[\"beds\"] = df2[\"beds\"].apply(lambda x: int(x.split(\" \")[0]))\n",
    "df3[\"beds\"].head()"
   ]
  },
  {
   "cell_type": "code",
   "execution_count": 535,
   "metadata": {},
   "outputs": [
    {
     "data": {
      "text/plain": [
       "0    4\n",
       "1    4\n",
       "2    4\n",
       "3    3\n",
       "4    4\n",
       "Name: bath, dtype: int64"
      ]
     },
     "execution_count": 535,
     "metadata": {},
     "output_type": "execute_result"
    }
   ],
   "source": [
    "# Changing bath to uniform presentation\n",
    "df3[\"bath\"] = df2[\"bath\"].apply(lambda x: int(x.split(\" \")[0]))\n",
    "df3[\"bath\"].head()"
   ]
  },
  {
   "cell_type": "code",
   "execution_count": 536,
   "metadata": {},
   "outputs": [
    {
     "data": {
      "text/plain": [
       "0    50.0\n",
       "1    30.0\n",
       "2    30.0\n",
       "3    35.0\n",
       "4    25.0\n",
       "Name: price, dtype: float64"
      ]
     },
     "execution_count": 536,
     "metadata": {},
     "output_type": "execute_result"
    }
   ],
   "source": [
    "# Changing price to uniform presentation (1 Lakh equals 100,000 Taka)\n",
    "def lakhToTaka(x):\n",
    "    if \"Lakh\" in x:\n",
    "        return float(x.split(\" \")[0])*100\n",
    "    else:\n",
    "        return float(x.split(\" \")[0])\n",
    "\n",
    "df3[\"price\"] = df2[\"price\"].astype(\"str\")\n",
    "df3[\"price\"] = df3[\"price\"].apply(lakhToTaka)\n",
    "df3[\"price\"].head()"
   ]
  },
  {
   "cell_type": "code",
   "execution_count": 537,
   "metadata": {},
   "outputs": [
    {
     "data": {
      "text/plain": [
       "0    2200\n",
       "1    1400\n",
       "2    1950\n",
       "3    2000\n",
       "4    1650\n",
       "Name: area, dtype: int64"
      ]
     },
     "execution_count": 537,
     "metadata": {},
     "output_type": "execute_result"
    }
   ],
   "source": [
    "# Changing area values to integers\n",
    "def areaToInt(x):\n",
    "    x = x.replace(\",\", \"\")\n",
    "    x = int(x.split(\" \")[0])\n",
    "    return x\n",
    "\n",
    "df3[\"area\"] = df2[\"area\"].astype(\"str\")\n",
    "df3[\"area\"] = df3[\"area\"].apply(areaToInt)\n",
    "df3[\"area\"].head()"
   ]
  },
  {
   "cell_type": "code",
   "execution_count": 538,
   "metadata": {},
   "outputs": [
    {
     "data": {
      "text/plain": [
       "0    Bashundhara R-A, Dhaka\n",
       "1       Khulshi, Chattogram\n",
       "2    Bashundhara R-A, Dhaka\n",
       "3             Uttara, Dhaka\n",
       "4    Bashundhara R-A, Dhaka\n",
       "Name: adress, dtype: object"
      ]
     },
     "execution_count": 538,
     "metadata": {},
     "output_type": "execute_result"
    }
   ],
   "source": [
    "# Changing adress values to town and city using the last two words\n",
    "df3[\"adress\"] = df2[\"adress\"].astype(\"str\")\n",
    "df3[\"adress\"] = df3[\"adress\"].apply(lambda x: x.split(\", \", 1)[-1])\n",
    "df3[\"adress\"].head()"
   ]
  },
  {
   "attachments": {},
   "cell_type": "markdown",
   "metadata": {},
   "source": [
    "##### Changing column headings to fix spelling errors and to be more informative"
   ]
  },
  {
   "cell_type": "code",
   "execution_count": 539,
   "metadata": {},
   "outputs": [],
   "source": [
    "df4 = df3.copy()"
   ]
  },
  {
   "cell_type": "code",
   "execution_count": 540,
   "metadata": {},
   "outputs": [
    {
     "data": {
      "text/html": [
       "<div>\n",
       "<style scoped>\n",
       "    .dataframe tbody tr th:only-of-type {\n",
       "        vertical-align: middle;\n",
       "    }\n",
       "\n",
       "    .dataframe tbody tr th {\n",
       "        vertical-align: top;\n",
       "    }\n",
       "\n",
       "    .dataframe thead th {\n",
       "        text-align: right;\n",
       "    }\n",
       "</style>\n",
       "<table border=\"1\" class=\"dataframe\">\n",
       "  <thead>\n",
       "    <tr style=\"text-align: right;\">\n",
       "      <th></th>\n",
       "      <th>beds</th>\n",
       "      <th>baths</th>\n",
       "      <th>area (sq feet)</th>\n",
       "      <th>price (thousand taka)</th>\n",
       "      <th>town and city</th>\n",
       "    </tr>\n",
       "  </thead>\n",
       "  <tbody>\n",
       "    <tr>\n",
       "      <th>0</th>\n",
       "      <td>3</td>\n",
       "      <td>4</td>\n",
       "      <td>2200</td>\n",
       "      <td>50.0</td>\n",
       "      <td>Bashundhara R-A, Dhaka</td>\n",
       "    </tr>\n",
       "    <tr>\n",
       "      <th>1</th>\n",
       "      <td>3</td>\n",
       "      <td>4</td>\n",
       "      <td>1400</td>\n",
       "      <td>30.0</td>\n",
       "      <td>Khulshi, Chattogram</td>\n",
       "    </tr>\n",
       "    <tr>\n",
       "      <th>2</th>\n",
       "      <td>3</td>\n",
       "      <td>4</td>\n",
       "      <td>1950</td>\n",
       "      <td>30.0</td>\n",
       "      <td>Bashundhara R-A, Dhaka</td>\n",
       "    </tr>\n",
       "    <tr>\n",
       "      <th>3</th>\n",
       "      <td>3</td>\n",
       "      <td>3</td>\n",
       "      <td>2000</td>\n",
       "      <td>35.0</td>\n",
       "      <td>Uttara, Dhaka</td>\n",
       "    </tr>\n",
       "    <tr>\n",
       "      <th>4</th>\n",
       "      <td>3</td>\n",
       "      <td>4</td>\n",
       "      <td>1650</td>\n",
       "      <td>25.0</td>\n",
       "      <td>Bashundhara R-A, Dhaka</td>\n",
       "    </tr>\n",
       "  </tbody>\n",
       "</table>\n",
       "</div>"
      ],
      "text/plain": [
       "   beds  baths  area (sq feet)  price (thousand taka)           town and city\n",
       "0     3      4            2200                   50.0  Bashundhara R-A, Dhaka\n",
       "1     3      4            1400                   30.0     Khulshi, Chattogram\n",
       "2     3      4            1950                   30.0  Bashundhara R-A, Dhaka\n",
       "3     3      3            2000                   35.0           Uttara, Dhaka\n",
       "4     3      4            1650                   25.0  Bashundhara R-A, Dhaka"
      ]
     },
     "execution_count": 540,
     "metadata": {},
     "output_type": "execute_result"
    }
   ],
   "source": [
    "df4[\"baths\"] = df4[\"bath\"]\n",
    "df4[\"area (sq feet)\"] = df4[\"area\"]\n",
    "df4[\"price (thousand taka)\"] = df4[\"price\"]\n",
    "df4[\"town and city\"] = df4[\"adress\"]\n",
    "df4 = df4.drop([\"bath\", \"area\", \"adress\", \"price\"], axis=\"columns\")\n",
    "df4.head()"
   ]
  },
  {
   "attachments": {},
   "cell_type": "markdown",
   "metadata": {},
   "source": [
    "##### Finding anomalous price values"
   ]
  },
  {
   "cell_type": "code",
   "execution_count": 541,
   "metadata": {},
   "outputs": [
    {
     "data": {
      "text/plain": [
       "(7557, 5)"
      ]
     },
     "execution_count": 541,
     "metadata": {},
     "output_type": "execute_result"
    }
   ],
   "source": [
    "df5 = df4.copy()\n",
    "mean = df5[\"price (thousand taka)\"].mean()\n",
    "std = df5[\"price (thousand taka)\"].std()\n",
    "Q1 = df5[\"price (thousand taka)\"].quantile(0.25)\n",
    "Q3 = df5[\"price (thousand taka)\"].quantile(0.75)\n",
    "IQR = Q3 - Q1\n",
    "df5.shape"
   ]
  },
  {
   "attachments": {},
   "cell_type": "markdown",
   "metadata": {},
   "source": [
    "###### Eliminating Anomalies using IQR"
   ]
  },
  {
   "cell_type": "code",
   "execution_count": 542,
   "metadata": {},
   "outputs": [],
   "source": [
    "# Finding the values at which point data becomes anomalous (1.5 * IQR below or above Q1 and Q3 respectively)\n",
    "low_anoms = Q1 - (IQR * 1.5)\n",
    "high_anoms = Q3 + (IQR * 1.5)"
   ]
  },
  {
   "cell_type": "code",
   "execution_count": 543,
   "metadata": {},
   "outputs": [
    {
     "data": {
      "text/plain": [
       "(6714, 5)"
      ]
     },
     "execution_count": 543,
     "metadata": {},
     "output_type": "execute_result"
    }
   ],
   "source": [
    "# Eliminating anomalies\n",
    "df5 = df5[(df5[\"price (thousand taka)\"] > low_anoms) & (df5[\"price (thousand taka)\"] < high_anoms)]\n",
    "df5.shape"
   ]
  },
  {
   "attachments": {},
   "cell_type": "markdown",
   "metadata": {},
   "source": [
    "###### Eliminating Anomalies using Standard Deviation"
   ]
  },
  {
   "cell_type": "code",
   "execution_count": 544,
   "metadata": {},
   "outputs": [],
   "source": [
    "# Finding the values at which point data becomes anomalous (3 Standard Deviations away from the mean)\n",
    "low_anoms = mean - (std * 3)\n",
    "high_anoms = mean + (std * 3)"
   ]
  },
  {
   "cell_type": "code",
   "execution_count": 545,
   "metadata": {},
   "outputs": [
    {
     "data": {
      "text/plain": [
       "(6714, 5)"
      ]
     },
     "execution_count": 545,
     "metadata": {},
     "output_type": "execute_result"
    }
   ],
   "source": [
    "# Eliminating anomalies\n",
    "df5 = df5[(df5[\"price (thousand taka)\"] > low_anoms) & (df5[\"price (thousand taka)\"] < high_anoms)]\n",
    "df5.shape"
   ]
  },
  {
   "attachments": {},
   "cell_type": "markdown",
   "metadata": {},
   "source": [
    "###### Eliminating Anomalies using Z Score"
   ]
  },
  {
   "cell_type": "code",
   "execution_count": 546,
   "metadata": {},
   "outputs": [
    {
     "data": {
      "text/html": [
       "<div>\n",
       "<style scoped>\n",
       "    .dataframe tbody tr th:only-of-type {\n",
       "        vertical-align: middle;\n",
       "    }\n",
       "\n",
       "    .dataframe tbody tr th {\n",
       "        vertical-align: top;\n",
       "    }\n",
       "\n",
       "    .dataframe thead th {\n",
       "        text-align: right;\n",
       "    }\n",
       "</style>\n",
       "<table border=\"1\" class=\"dataframe\">\n",
       "  <thead>\n",
       "    <tr style=\"text-align: right;\">\n",
       "      <th></th>\n",
       "      <th>beds</th>\n",
       "      <th>baths</th>\n",
       "      <th>area (sq feet)</th>\n",
       "      <th>price (thousand taka)</th>\n",
       "      <th>town and city</th>\n",
       "      <th>zscore</th>\n",
       "    </tr>\n",
       "  </thead>\n",
       "  <tbody>\n",
       "    <tr>\n",
       "      <th>0</th>\n",
       "      <td>3</td>\n",
       "      <td>4</td>\n",
       "      <td>2200</td>\n",
       "      <td>50.0</td>\n",
       "      <td>Bashundhara R-A, Dhaka</td>\n",
       "      <td>0.246030</td>\n",
       "    </tr>\n",
       "    <tr>\n",
       "      <th>1</th>\n",
       "      <td>3</td>\n",
       "      <td>4</td>\n",
       "      <td>1400</td>\n",
       "      <td>30.0</td>\n",
       "      <td>Khulshi, Chattogram</td>\n",
       "      <td>-0.063034</td>\n",
       "    </tr>\n",
       "    <tr>\n",
       "      <th>2</th>\n",
       "      <td>3</td>\n",
       "      <td>4</td>\n",
       "      <td>1950</td>\n",
       "      <td>30.0</td>\n",
       "      <td>Bashundhara R-A, Dhaka</td>\n",
       "      <td>-0.063034</td>\n",
       "    </tr>\n",
       "    <tr>\n",
       "      <th>3</th>\n",
       "      <td>3</td>\n",
       "      <td>3</td>\n",
       "      <td>2000</td>\n",
       "      <td>35.0</td>\n",
       "      <td>Uttara, Dhaka</td>\n",
       "      <td>0.014232</td>\n",
       "    </tr>\n",
       "    <tr>\n",
       "      <th>4</th>\n",
       "      <td>3</td>\n",
       "      <td>4</td>\n",
       "      <td>1650</td>\n",
       "      <td>25.0</td>\n",
       "      <td>Bashundhara R-A, Dhaka</td>\n",
       "      <td>-0.140300</td>\n",
       "    </tr>\n",
       "  </tbody>\n",
       "</table>\n",
       "</div>"
      ],
      "text/plain": [
       "   beds  baths  area (sq feet)  price (thousand taka)           town and city  \\\n",
       "0     3      4            2200                   50.0  Bashundhara R-A, Dhaka   \n",
       "1     3      4            1400                   30.0     Khulshi, Chattogram   \n",
       "2     3      4            1950                   30.0  Bashundhara R-A, Dhaka   \n",
       "3     3      3            2000                   35.0           Uttara, Dhaka   \n",
       "4     3      4            1650                   25.0  Bashundhara R-A, Dhaka   \n",
       "\n",
       "     zscore  \n",
       "0  0.246030  \n",
       "1 -0.063034  \n",
       "2 -0.063034  \n",
       "3  0.014232  \n",
       "4 -0.140300  "
      ]
     },
     "execution_count": 546,
     "metadata": {},
     "output_type": "execute_result"
    }
   ],
   "source": [
    "# Creating a column where z scores are calculated\n",
    "df5[\"zscore\"] = (df5[\"price (thousand taka)\"] - mean) / std\n",
    "df5.head()"
   ]
  },
  {
   "cell_type": "code",
   "execution_count": 547,
   "metadata": {},
   "outputs": [
    {
     "data": {
      "text/plain": [
       "(6714, 5)"
      ]
     },
     "execution_count": 547,
     "metadata": {},
     "output_type": "execute_result"
    }
   ],
   "source": [
    "# Eliminating anomalies (Values with a z score above 3 and below -3), then dropping the z score column\n",
    "df5 = df5[(df5[\"zscore\"] > -3) & (df5[\"zscore\"] < 3)]\n",
    "df5 = df5.drop([\"zscore\"], axis=\"columns\")\n",
    "df5.shape"
   ]
  },
  {
   "attachments": {},
   "cell_type": "markdown",
   "metadata": {},
   "source": [
    "### Feature Engineering"
   ]
  },
  {
   "cell_type": "code",
   "execution_count": 548,
   "metadata": {},
   "outputs": [
    {
     "data": {
      "text/html": [
       "<div>\n",
       "<style scoped>\n",
       "    .dataframe tbody tr th:only-of-type {\n",
       "        vertical-align: middle;\n",
       "    }\n",
       "\n",
       "    .dataframe tbody tr th {\n",
       "        vertical-align: top;\n",
       "    }\n",
       "\n",
       "    .dataframe thead th {\n",
       "        text-align: right;\n",
       "    }\n",
       "</style>\n",
       "<table border=\"1\" class=\"dataframe\">\n",
       "  <thead>\n",
       "    <tr style=\"text-align: right;\">\n",
       "      <th></th>\n",
       "      <th>beds</th>\n",
       "      <th>baths</th>\n",
       "      <th>area (sq feet)</th>\n",
       "      <th>price (thousand taka)</th>\n",
       "      <th>town and city</th>\n",
       "    </tr>\n",
       "  </thead>\n",
       "  <tbody>\n",
       "    <tr>\n",
       "      <th>0</th>\n",
       "      <td>3</td>\n",
       "      <td>4</td>\n",
       "      <td>2200</td>\n",
       "      <td>50.0</td>\n",
       "      <td>Bashundhara R-A, Dhaka</td>\n",
       "    </tr>\n",
       "    <tr>\n",
       "      <th>1</th>\n",
       "      <td>3</td>\n",
       "      <td>4</td>\n",
       "      <td>1400</td>\n",
       "      <td>30.0</td>\n",
       "      <td>Khulshi, Chattogram</td>\n",
       "    </tr>\n",
       "    <tr>\n",
       "      <th>2</th>\n",
       "      <td>3</td>\n",
       "      <td>4</td>\n",
       "      <td>1950</td>\n",
       "      <td>30.0</td>\n",
       "      <td>Bashundhara R-A, Dhaka</td>\n",
       "    </tr>\n",
       "    <tr>\n",
       "      <th>3</th>\n",
       "      <td>3</td>\n",
       "      <td>3</td>\n",
       "      <td>2000</td>\n",
       "      <td>35.0</td>\n",
       "      <td>Uttara, Dhaka</td>\n",
       "    </tr>\n",
       "    <tr>\n",
       "      <th>4</th>\n",
       "      <td>3</td>\n",
       "      <td>4</td>\n",
       "      <td>1650</td>\n",
       "      <td>25.0</td>\n",
       "      <td>Bashundhara R-A, Dhaka</td>\n",
       "    </tr>\n",
       "  </tbody>\n",
       "</table>\n",
       "</div>"
      ],
      "text/plain": [
       "   beds  baths  area (sq feet)  price (thousand taka)           town and city\n",
       "0     3      4            2200                   50.0  Bashundhara R-A, Dhaka\n",
       "1     3      4            1400                   30.0     Khulshi, Chattogram\n",
       "2     3      4            1950                   30.0  Bashundhara R-A, Dhaka\n",
       "3     3      3            2000                   35.0           Uttara, Dhaka\n",
       "4     3      4            1650                   25.0  Bashundhara R-A, Dhaka"
      ]
     },
     "execution_count": 548,
     "metadata": {},
     "output_type": "execute_result"
    }
   ],
   "source": [
    "df6 = df5.copy()\n",
    "df6.head()"
   ]
  },
  {
   "attachments": {},
   "cell_type": "markdown",
   "metadata": {},
   "source": [
    "#### Adding Price per Square Feet"
   ]
  },
  {
   "cell_type": "code",
   "execution_count": 549,
   "metadata": {},
   "outputs": [
    {
     "data": {
      "text/html": [
       "<div>\n",
       "<style scoped>\n",
       "    .dataframe tbody tr th:only-of-type {\n",
       "        vertical-align: middle;\n",
       "    }\n",
       "\n",
       "    .dataframe tbody tr th {\n",
       "        vertical-align: top;\n",
       "    }\n",
       "\n",
       "    .dataframe thead th {\n",
       "        text-align: right;\n",
       "    }\n",
       "</style>\n",
       "<table border=\"1\" class=\"dataframe\">\n",
       "  <thead>\n",
       "    <tr style=\"text-align: right;\">\n",
       "      <th></th>\n",
       "      <th>beds</th>\n",
       "      <th>baths</th>\n",
       "      <th>area (sq feet)</th>\n",
       "      <th>price (thousand taka)</th>\n",
       "      <th>town and city</th>\n",
       "      <th>price (taka) per sq feet</th>\n",
       "    </tr>\n",
       "  </thead>\n",
       "  <tbody>\n",
       "    <tr>\n",
       "      <th>0</th>\n",
       "      <td>3</td>\n",
       "      <td>4</td>\n",
       "      <td>2200</td>\n",
       "      <td>50.0</td>\n",
       "      <td>Bashundhara R-A, Dhaka</td>\n",
       "      <td>22.727273</td>\n",
       "    </tr>\n",
       "    <tr>\n",
       "      <th>1</th>\n",
       "      <td>3</td>\n",
       "      <td>4</td>\n",
       "      <td>1400</td>\n",
       "      <td>30.0</td>\n",
       "      <td>Khulshi, Chattogram</td>\n",
       "      <td>21.428571</td>\n",
       "    </tr>\n",
       "    <tr>\n",
       "      <th>2</th>\n",
       "      <td>3</td>\n",
       "      <td>4</td>\n",
       "      <td>1950</td>\n",
       "      <td>30.0</td>\n",
       "      <td>Bashundhara R-A, Dhaka</td>\n",
       "      <td>15.384615</td>\n",
       "    </tr>\n",
       "    <tr>\n",
       "      <th>3</th>\n",
       "      <td>3</td>\n",
       "      <td>3</td>\n",
       "      <td>2000</td>\n",
       "      <td>35.0</td>\n",
       "      <td>Uttara, Dhaka</td>\n",
       "      <td>17.500000</td>\n",
       "    </tr>\n",
       "    <tr>\n",
       "      <th>4</th>\n",
       "      <td>3</td>\n",
       "      <td>4</td>\n",
       "      <td>1650</td>\n",
       "      <td>25.0</td>\n",
       "      <td>Bashundhara R-A, Dhaka</td>\n",
       "      <td>15.151515</td>\n",
       "    </tr>\n",
       "  </tbody>\n",
       "</table>\n",
       "</div>"
      ],
      "text/plain": [
       "   beds  baths  area (sq feet)  price (thousand taka)           town and city  \\\n",
       "0     3      4            2200                   50.0  Bashundhara R-A, Dhaka   \n",
       "1     3      4            1400                   30.0     Khulshi, Chattogram   \n",
       "2     3      4            1950                   30.0  Bashundhara R-A, Dhaka   \n",
       "3     3      3            2000                   35.0           Uttara, Dhaka   \n",
       "4     3      4            1650                   25.0  Bashundhara R-A, Dhaka   \n",
       "\n",
       "   price (taka) per sq feet  \n",
       "0                 22.727273  \n",
       "1                 21.428571  \n",
       "2                 15.384615  \n",
       "3                 17.500000  \n",
       "4                 15.151515  "
      ]
     },
     "execution_count": 549,
     "metadata": {},
     "output_type": "execute_result"
    }
   ],
   "source": [
    "# Adding a column where price per square feet is calculated\n",
    "df6[\"price (taka) per sq feet\"] = (df6[\"price (thousand taka)\"] / df6[\"area (sq feet)\"])*1000\n",
    "df6.head()"
   ]
  },
  {
   "attachments": {},
   "cell_type": "markdown",
   "metadata": {},
   "source": [
    "### Finding Correlations"
   ]
  },
  {
   "cell_type": "code",
   "execution_count": 550,
   "metadata": {},
   "outputs": [
    {
     "data": {
      "image/png": "[encoded data removed]",
      "text/plain": [
       "<Figure size 2000x1000 with 1 Axes>"
      ]
     },
     "metadata": {},
     "output_type": "display_data"
    }
   ],
   "source": [
    "# Price vs Area\n",
    "priceVsArea = sns.regplot(x=\"area (sq feet)\", y=\"price (thousand taka)\", data=df6, line_kws={\"color\": \"red\"})"
   ]
  },
  {
   "cell_type": "code",
   "execution_count": 551,
   "metadata": {},
   "outputs": [
    {
     "data": {
      "image/png": "[encoded data removed]",
      "text/plain": [
       "<Figure size 2000x1000 with 1 Axes>"
      ]
     },
     "metadata": {},
     "output_type": "display_data"
    }
   ],
   "source": [
    "# Price vs Beds\n",
    "priceVsBeds = sns.regplot(x=\"beds\", y=\"price (thousand taka)\", data=df6, line_kws={\"color\": \"red\"})"
   ]
  },
  {
   "cell_type": "code",
   "execution_count": 552,
   "metadata": {},
   "outputs": [
    {
     "data": {
      "image/png": "[encoded data removed]",
      "text/plain": [
       "<Figure size 2000x1000 with 1 Axes>"
      ]
     },
     "metadata": {},
     "output_type": "display_data"
    }
   ],
   "source": [
    "# Price vs Baths\n",
    "priceVsBaths = sns.regplot(x=\"baths\", y=\"price (thousand taka)\", data=df6, line_kws={\"color\": \"red\"})"
   ]
  },
  {
   "attachments": {},
   "cell_type": "markdown",
   "metadata": {},
   "source": [
    "###### Price vs beds and Price vs baths both have a linear regression line with a lower gradient than Price vs Area, which makes sense because the number of beds and baths can only increase if the area increases, making area the lead cause for price increase."
   ]
  },
  {
   "attachments": {},
   "cell_type": "markdown",
   "metadata": {},
   "source": [
    "### Building a Linear Regression Model of Variables Vs Price"
   ]
  },
  {
   "attachments": {},
   "cell_type": "markdown",
   "metadata": {},
   "source": [
    "##### One Hot Encoding Locations for Machine Learning"
   ]
  },
  {
   "cell_type": "code",
   "execution_count": 553,
   "metadata": {},
   "outputs": [
    {
     "data": {
      "text/html": [
       "<div>\n",
       "<style scoped>\n",
       "    .dataframe tbody tr th:only-of-type {\n",
       "        vertical-align: middle;\n",
       "    }\n",
       "\n",
       "    .dataframe tbody tr th {\n",
       "        vertical-align: top;\n",
       "    }\n",
       "\n",
       "    .dataframe thead th {\n",
       "        text-align: right;\n",
       "    }\n",
       "</style>\n",
       "<table border=\"1\" class=\"dataframe\">\n",
       "  <thead>\n",
       "    <tr style=\"text-align: right;\">\n",
       "      <th></th>\n",
       "      <th>beds</th>\n",
       "      <th>baths</th>\n",
       "      <th>area (sq feet)</th>\n",
       "      <th>price (thousand taka)</th>\n",
       "      <th>1 No. South Pahartali Ward, Hathazari, Chattogram</th>\n",
       "      <th>10 No. North Kattali Ward, Chattogram</th>\n",
       "      <th>11 No. South Kattali Ward, Chattogram</th>\n",
       "      <th>12 No. Sarai Para Ward, Double Mooring, Chattogram</th>\n",
       "      <th>14 No. Lalkhan Bazaar Ward, Lal Khan Bazaar, Chattogram</th>\n",
       "      <th>15 No. Bagmoniram Ward, Chattogram</th>\n",
       "      <th>...</th>\n",
       "      <th>Tejgaon, Dhaka</th>\n",
       "      <th>Tilpapara, Khilgaon, Dhaka</th>\n",
       "      <th>Turag, Dhaka</th>\n",
       "      <th>Uttar Badda, Badda, Dhaka</th>\n",
       "      <th>Uttar Khan, Dhaka</th>\n",
       "      <th>Uttara, Dhaka</th>\n",
       "      <th>Vatara, Badda, Dhaka</th>\n",
       "      <th>West Agargaon, Agargaon, Dhaka</th>\n",
       "      <th>West Khulshi, 9 No. North Pahartali Ward, Chattogram</th>\n",
       "      <th>West Rampura, Rampura, Dhaka</th>\n",
       "    </tr>\n",
       "  </thead>\n",
       "  <tbody>\n",
       "    <tr>\n",
       "      <th>0</th>\n",
       "      <td>3</td>\n",
       "      <td>4</td>\n",
       "      <td>2200</td>\n",
       "      <td>50.0</td>\n",
       "      <td>0</td>\n",
       "      <td>0</td>\n",
       "      <td>0</td>\n",
       "      <td>0</td>\n",
       "      <td>0</td>\n",
       "      <td>0</td>\n",
       "      <td>...</td>\n",
       "      <td>0</td>\n",
       "      <td>0</td>\n",
       "      <td>0</td>\n",
       "      <td>0</td>\n",
       "      <td>0</td>\n",
       "      <td>0</td>\n",
       "      <td>0</td>\n",
       "      <td>0</td>\n",
       "      <td>0</td>\n",
       "      <td>0</td>\n",
       "    </tr>\n",
       "    <tr>\n",
       "      <th>1</th>\n",
       "      <td>3</td>\n",
       "      <td>4</td>\n",
       "      <td>1400</td>\n",
       "      <td>30.0</td>\n",
       "      <td>0</td>\n",
       "      <td>0</td>\n",
       "      <td>0</td>\n",
       "      <td>0</td>\n",
       "      <td>0</td>\n",
       "      <td>0</td>\n",
       "      <td>...</td>\n",
       "      <td>0</td>\n",
       "      <td>0</td>\n",
       "      <td>0</td>\n",
       "      <td>0</td>\n",
       "      <td>0</td>\n",
       "      <td>0</td>\n",
       "      <td>0</td>\n",
       "      <td>0</td>\n",
       "      <td>0</td>\n",
       "      <td>0</td>\n",
       "    </tr>\n",
       "    <tr>\n",
       "      <th>2</th>\n",
       "      <td>3</td>\n",
       "      <td>4</td>\n",
       "      <td>1950</td>\n",
       "      <td>30.0</td>\n",
       "      <td>0</td>\n",
       "      <td>0</td>\n",
       "      <td>0</td>\n",
       "      <td>0</td>\n",
       "      <td>0</td>\n",
       "      <td>0</td>\n",
       "      <td>...</td>\n",
       "      <td>0</td>\n",
       "      <td>0</td>\n",
       "      <td>0</td>\n",
       "      <td>0</td>\n",
       "      <td>0</td>\n",
       "      <td>0</td>\n",
       "      <td>0</td>\n",
       "      <td>0</td>\n",
       "      <td>0</td>\n",
       "      <td>0</td>\n",
       "    </tr>\n",
       "    <tr>\n",
       "      <th>3</th>\n",
       "      <td>3</td>\n",
       "      <td>3</td>\n",
       "      <td>2000</td>\n",
       "      <td>35.0</td>\n",
       "      <td>0</td>\n",
       "      <td>0</td>\n",
       "      <td>0</td>\n",
       "      <td>0</td>\n",
       "      <td>0</td>\n",
       "      <td>0</td>\n",
       "      <td>...</td>\n",
       "      <td>0</td>\n",
       "      <td>0</td>\n",
       "      <td>0</td>\n",
       "      <td>0</td>\n",
       "      <td>0</td>\n",
       "      <td>1</td>\n",
       "      <td>0</td>\n",
       "      <td>0</td>\n",
       "      <td>0</td>\n",
       "      <td>0</td>\n",
       "    </tr>\n",
       "    <tr>\n",
       "      <th>4</th>\n",
       "      <td>3</td>\n",
       "      <td>4</td>\n",
       "      <td>1650</td>\n",
       "      <td>25.0</td>\n",
       "      <td>0</td>\n",
       "      <td>0</td>\n",
       "      <td>0</td>\n",
       "      <td>0</td>\n",
       "      <td>0</td>\n",
       "      <td>0</td>\n",
       "      <td>...</td>\n",
       "      <td>0</td>\n",
       "      <td>0</td>\n",
       "      <td>0</td>\n",
       "      <td>0</td>\n",
       "      <td>0</td>\n",
       "      <td>0</td>\n",
       "      <td>0</td>\n",
       "      <td>0</td>\n",
       "      <td>0</td>\n",
       "      <td>0</td>\n",
       "    </tr>\n",
       "  </tbody>\n",
       "</table>\n",
       "<p>5 rows × 221 columns</p>\n",
       "</div>"
      ],
      "text/plain": [
       "   beds  baths  area (sq feet)  price (thousand taka)  \\\n",
       "0     3      4            2200                   50.0   \n",
       "1     3      4            1400                   30.0   \n",
       "2     3      4            1950                   30.0   \n",
       "3     3      3            2000                   35.0   \n",
       "4     3      4            1650                   25.0   \n",
       "\n",
       "   1 No. South Pahartali Ward, Hathazari, Chattogram  \\\n",
       "0                                                  0   \n",
       "1                                                  0   \n",
       "2                                                  0   \n",
       "3                                                  0   \n",
       "4                                                  0   \n",
       "\n",
       "   10 No. North Kattali Ward, Chattogram  \\\n",
       "0                                      0   \n",
       "1                                      0   \n",
       "2                                      0   \n",
       "3                                      0   \n",
       "4                                      0   \n",
       "\n",
       "   11 No. South Kattali Ward, Chattogram  \\\n",
       "0                                      0   \n",
       "1                                      0   \n",
       "2                                      0   \n",
       "3                                      0   \n",
       "4                                      0   \n",
       "\n",
       "   12 No. Sarai Para Ward, Double Mooring, Chattogram  \\\n",
       "0                                                  0    \n",
       "1                                                  0    \n",
       "2                                                  0    \n",
       "3                                                  0    \n",
       "4                                                  0    \n",
       "\n",
       "   14 No. Lalkhan Bazaar Ward, Lal Khan Bazaar, Chattogram  \\\n",
       "0                                                  0         \n",
       "1                                                  0         \n",
       "2                                                  0         \n",
       "3                                                  0         \n",
       "4                                                  0         \n",
       "\n",
       "   15 No. Bagmoniram Ward, Chattogram  ...  Tejgaon, Dhaka  \\\n",
       "0                                   0  ...               0   \n",
       "1                                   0  ...               0   \n",
       "2                                   0  ...               0   \n",
       "3                                   0  ...               0   \n",
       "4                                   0  ...               0   \n",
       "\n",
       "   Tilpapara, Khilgaon, Dhaka  Turag, Dhaka  Uttar Badda, Badda, Dhaka  \\\n",
       "0                           0             0                          0   \n",
       "1                           0             0                          0   \n",
       "2                           0             0                          0   \n",
       "3                           0             0                          0   \n",
       "4                           0             0                          0   \n",
       "\n",
       "   Uttar Khan, Dhaka  Uttara, Dhaka  Vatara, Badda, Dhaka  \\\n",
       "0                  0              0                     0   \n",
       "1                  0              0                     0   \n",
       "2                  0              0                     0   \n",
       "3                  0              1                     0   \n",
       "4                  0              0                     0   \n",
       "\n",
       "   West Agargaon, Agargaon, Dhaka  \\\n",
       "0                               0   \n",
       "1                               0   \n",
       "2                               0   \n",
       "3                               0   \n",
       "4                               0   \n",
       "\n",
       "   West Khulshi, 9 No. North Pahartali Ward, Chattogram  \\\n",
       "0                                                  0      \n",
       "1                                                  0      \n",
       "2                                                  0      \n",
       "3                                                  0      \n",
       "4                                                  0      \n",
       "\n",
       "   West Rampura, Rampura, Dhaka  \n",
       "0                             0  \n",
       "1                             0  \n",
       "2                             0  \n",
       "3                             0  \n",
       "4                             0  \n",
       "\n",
       "[5 rows x 221 columns]"
      ]
     },
     "execution_count": 553,
     "metadata": {},
     "output_type": "execute_result"
    }
   ],
   "source": [
    "# Creating and concatenating dummy variables made from the 'town and city' column to the dataframe\n",
    "dummies = pd.get_dummies(df6[\"town and city\"])\n",
    "df7 = pd.concat([df6, dummies], axis=\"columns\")\n",
    "df7 = df7.drop([\"town and city\", \"aziz Moholla, Mohammadpur, Dhaka\", \"price (taka) per sq feet\"], axis=\"columns\") # \"Price (taka) per sq feet\" is dropped because it has no correlation with price, which will result in an inaccurate model\n",
    "df7.head()"
   ]
  },
  {
   "attachments": {},
   "cell_type": "markdown",
   "metadata": {},
   "source": [
    "##### Creating a Linear Regression Model using sklearn"
   ]
  },
  {
   "cell_type": "code",
   "execution_count": 560,
   "metadata": {},
   "outputs": [],
   "source": [
    "# Assigning x and y variables from the dataframe\n",
    "x = df7.drop([\"price (thousand taka)\"], axis=\"columns\")\n",
    "y = df7[\"price (thousand taka)\"]"
   ]
  },
  {
   "cell_type": "code",
   "execution_count": 582,
   "metadata": {},
   "outputs": [
    {
     "data": {
      "text/plain": [
       "0.7384145062862282"
      ]
     },
     "execution_count": 582,
     "metadata": {},
     "output_type": "execute_result"
    }
   ],
   "source": [
    "# Train test splitting the dataframe for model creation, training the model using a fit test, testing the score of the model using a score test\n",
    "x_train, x_test, y_train, y_test = train_test_split(x, y, test_size=0.2, random_state=10)\n",
    "lr_clf = LinearRegression()\n",
    "lr_clf.fit(x_train.values, y_train.values)\n",
    "lr_clf.score(x_test.values, y_test.values)"
   ]
  },
  {
   "cell_type": "code",
   "execution_count": 612,
   "metadata": {},
   "outputs": [
    {
     "data": {
      "text/html": [
       "<div>\n",
       "<style scoped>\n",
       "    .dataframe tbody tr th:only-of-type {\n",
       "        vertical-align: middle;\n",
       "    }\n",
       "\n",
       "    .dataframe tbody tr th {\n",
       "        vertical-align: top;\n",
       "    }\n",
       "\n",
       "    .dataframe thead th {\n",
       "        text-align: right;\n",
       "    }\n",
       "</style>\n",
       "<table border=\"1\" class=\"dataframe\">\n",
       "  <thead>\n",
       "    <tr style=\"text-align: right;\">\n",
       "      <th></th>\n",
       "      <th>beds</th>\n",
       "      <th>baths</th>\n",
       "      <th>area (sq feet)</th>\n",
       "      <th>price (thousand taka)</th>\n",
       "      <th>town and city</th>\n",
       "      <th>price (taka) per sq feet</th>\n",
       "    </tr>\n",
       "  </thead>\n",
       "  <tbody>\n",
       "    <tr>\n",
       "      <th>0</th>\n",
       "      <td>3</td>\n",
       "      <td>4</td>\n",
       "      <td>2200</td>\n",
       "      <td>50.0</td>\n",
       "      <td>Bashundhara R-A, Dhaka</td>\n",
       "      <td>22.727273</td>\n",
       "    </tr>\n",
       "    <tr>\n",
       "      <th>1</th>\n",
       "      <td>3</td>\n",
       "      <td>4</td>\n",
       "      <td>1400</td>\n",
       "      <td>30.0</td>\n",
       "      <td>Khulshi, Chattogram</td>\n",
       "      <td>21.428571</td>\n",
       "    </tr>\n",
       "    <tr>\n",
       "      <th>2</th>\n",
       "      <td>3</td>\n",
       "      <td>4</td>\n",
       "      <td>1950</td>\n",
       "      <td>30.0</td>\n",
       "      <td>Bashundhara R-A, Dhaka</td>\n",
       "      <td>15.384615</td>\n",
       "    </tr>\n",
       "    <tr>\n",
       "      <th>3</th>\n",
       "      <td>3</td>\n",
       "      <td>3</td>\n",
       "      <td>2000</td>\n",
       "      <td>35.0</td>\n",
       "      <td>Uttara, Dhaka</td>\n",
       "      <td>17.500000</td>\n",
       "    </tr>\n",
       "    <tr>\n",
       "      <th>4</th>\n",
       "      <td>3</td>\n",
       "      <td>4</td>\n",
       "      <td>1650</td>\n",
       "      <td>25.0</td>\n",
       "      <td>Bashundhara R-A, Dhaka</td>\n",
       "      <td>15.151515</td>\n",
       "    </tr>\n",
       "    <tr>\n",
       "      <th>...</th>\n",
       "      <td>...</td>\n",
       "      <td>...</td>\n",
       "      <td>...</td>\n",
       "      <td>...</td>\n",
       "      <td>...</td>\n",
       "      <td>...</td>\n",
       "    </tr>\n",
       "    <tr>\n",
       "      <th>7547</th>\n",
       "      <td>3</td>\n",
       "      <td>2</td>\n",
       "      <td>1100</td>\n",
       "      <td>17.0</td>\n",
       "      <td>Nobodoy Housing Society, Mohammadpur, Dhaka</td>\n",
       "      <td>15.454545</td>\n",
       "    </tr>\n",
       "    <tr>\n",
       "      <th>7549</th>\n",
       "      <td>4</td>\n",
       "      <td>4</td>\n",
       "      <td>1800</td>\n",
       "      <td>30.0</td>\n",
       "      <td>Section 3, Mirpur, Dhaka</td>\n",
       "      <td>16.666667</td>\n",
       "    </tr>\n",
       "    <tr>\n",
       "      <th>7551</th>\n",
       "      <td>3</td>\n",
       "      <td>4</td>\n",
       "      <td>1888</td>\n",
       "      <td>50.0</td>\n",
       "      <td>Bashundhara R-A, Dhaka</td>\n",
       "      <td>26.483051</td>\n",
       "    </tr>\n",
       "    <tr>\n",
       "      <th>7553</th>\n",
       "      <td>3</td>\n",
       "      <td>2</td>\n",
       "      <td>900</td>\n",
       "      <td>19.0</td>\n",
       "      <td>Uttara, Dhaka</td>\n",
       "      <td>21.111111</td>\n",
       "    </tr>\n",
       "    <tr>\n",
       "      <th>7554</th>\n",
       "      <td>2</td>\n",
       "      <td>2</td>\n",
       "      <td>1000</td>\n",
       "      <td>22.0</td>\n",
       "      <td>Uttara, Dhaka</td>\n",
       "      <td>22.000000</td>\n",
       "    </tr>\n",
       "  </tbody>\n",
       "</table>\n",
       "<p>6714 rows × 6 columns</p>\n",
       "</div>"
      ],
      "text/plain": [
       "      beds  baths  area (sq feet)  price (thousand taka)  \\\n",
       "0        3      4            2200                   50.0   \n",
       "1        3      4            1400                   30.0   \n",
       "2        3      4            1950                   30.0   \n",
       "3        3      3            2000                   35.0   \n",
       "4        3      4            1650                   25.0   \n",
       "...    ...    ...             ...                    ...   \n",
       "7547     3      2            1100                   17.0   \n",
       "7549     4      4            1800                   30.0   \n",
       "7551     3      4            1888                   50.0   \n",
       "7553     3      2             900                   19.0   \n",
       "7554     2      2            1000                   22.0   \n",
       "\n",
       "                                    town and city  price (taka) per sq feet  \n",
       "0                          Bashundhara R-A, Dhaka                 22.727273  \n",
       "1                             Khulshi, Chattogram                 21.428571  \n",
       "2                          Bashundhara R-A, Dhaka                 15.384615  \n",
       "3                                   Uttara, Dhaka                 17.500000  \n",
       "4                          Bashundhara R-A, Dhaka                 15.151515  \n",
       "...                                           ...                       ...  \n",
       "7547  Nobodoy Housing Society, Mohammadpur, Dhaka                 15.454545  \n",
       "7549                     Section 3, Mirpur, Dhaka                 16.666667  \n",
       "7551                       Bashundhara R-A, Dhaka                 26.483051  \n",
       "7553                                Uttara, Dhaka                 21.111111  \n",
       "7554                                Uttara, Dhaka                 22.000000  \n",
       "\n",
       "[6714 rows x 6 columns]"
      ]
     },
     "execution_count": 612,
     "metadata": {},
     "output_type": "execute_result"
    }
   ],
   "source": [
    "df6"
   ]
  },
  {
   "cell_type": "code",
   "execution_count": 625,
   "metadata": {},
   "outputs": [],
   "source": [
    "# Building a function to predict the price using the LR model created\n",
    "def predictPrice(townAndCity, sqft, beds, baths, df=x):\n",
    "    townAndCityIndex = np.where(df.columns == townAndCity)[0][0]\n",
    "\n",
    "    array = np.zeros(len(df.columns))\n",
    "    array[0] = beds\n",
    "    array[1] = baths\n",
    "    array[2] = sqft\n",
    "    if townAndCityIndex >= 0:\n",
    "        array[townAndCityIndex] = 1\n",
    "\n",
    "    return lr_clf.predict([array])[0]"
   ]
  },
  {
   "attachments": {},
   "cell_type": "markdown",
   "metadata": {},
   "source": [
    "##### Testing the model against the actual dataframe"
   ]
  },
  {
   "cell_type": "code",
   "execution_count": 626,
   "metadata": {},
   "outputs": [],
   "source": [
    "# Building a function to find the mean of prices in the dataframe when given location, sqft, beds and baths\n",
    "def actualPrice(townAndCity, sqft, beds, baths, df=df6):\n",
    "    actual = df[(df[\"town and city\"] == townAndCity) & (df[\"beds\"] == beds) & (df[\"baths\"] == baths) & (df[\"area (sq feet)\"] == sqft)]\n",
    "    return actual[\"price (thousand taka)\"].mean()"
   ]
  },
  {
   "attachments": {},
   "cell_type": "markdown",
   "metadata": {},
   "source": [
    "###### Test 1"
   ]
  },
  {
   "cell_type": "code",
   "execution_count": 627,
   "metadata": {},
   "outputs": [
    {
     "data": {
      "text/plain": [
       "20.10922126424141"
      ]
     },
     "execution_count": 627,
     "metadata": {},
     "output_type": "execute_result"
    }
   ],
   "source": [
    "# Prediction of price\n",
    "predictPrice(\"Uttara, Dhaka\", 900, 2, 2)"
   ]
  },
  {
   "cell_type": "code",
   "execution_count": 628,
   "metadata": {},
   "outputs": [
    {
     "data": {
      "text/plain": [
       "19.144881889763777"
      ]
     },
     "execution_count": 628,
     "metadata": {},
     "output_type": "execute_result"
    }
   ],
   "source": [
    "# Actual price in dataframe\n",
    "actualPrice(\"Uttara, Dhaka\", 900, 2, 2)"
   ]
  },
  {
   "attachments": {},
   "cell_type": "markdown",
   "metadata": {},
   "source": [
    "###### Test 2"
   ]
  },
  {
   "cell_type": "code",
   "execution_count": 629,
   "metadata": {},
   "outputs": [
    {
     "data": {
      "text/plain": [
       "26.76530717583376"
      ]
     },
     "execution_count": 629,
     "metadata": {},
     "output_type": "execute_result"
    }
   ],
   "source": [
    "# Prediction of price\n",
    "predictPrice(\"Khulshi, Chattogram\", 1400, 3, 4)"
   ]
  },
  {
   "cell_type": "code",
   "execution_count": 630,
   "metadata": {},
   "outputs": [
    {
     "data": {
      "text/plain": [
       "29.0"
      ]
     },
     "execution_count": 630,
     "metadata": {},
     "output_type": "execute_result"
    }
   ],
   "source": [
    "# Actual price in dataframe\n",
    "actualPrice(\"Khulshi, Chattogram\", 1400, 3, 4)"
   ]
  },
  {
   "attachments": {},
   "cell_type": "markdown",
   "metadata": {},
   "source": [
    "###### Test 3"
   ]
  },
  {
   "cell_type": "code",
   "execution_count": 631,
   "metadata": {},
   "outputs": [
    {
     "data": {
      "text/plain": [
       "41.40251912192187"
      ]
     },
     "execution_count": 631,
     "metadata": {},
     "output_type": "execute_result"
    }
   ],
   "source": [
    "# Prediction of price\n",
    "predictPrice(\"Bashundhara R-A, Dhaka\", 2200, 3, 4)"
   ]
  },
  {
   "cell_type": "code",
   "execution_count": 632,
   "metadata": {},
   "outputs": [
    {
     "data": {
      "text/plain": [
       "39.0"
      ]
     },
     "execution_count": 632,
     "metadata": {},
     "output_type": "execute_result"
    }
   ],
   "source": [
    "# Actual price in dataframe\n",
    "actualPrice(\"Bashundhara R-A, Dhaka\", 2200, 3, 4)"
   ]
  }
 ],
 "metadata": {
  "kernelspec": {
   "display_name": "base",
   "language": "python",
   "name": "python3"
  },
  "language_info": {
   "codemirror_mode": {
    "name": "ipython",
    "version": 3
   },
   "file_extension": ".py",
   "mimetype": "text/x-python",
   "name": "python",
   "nbconvert_exporter": "python",
   "pygments_lexer": "ipython3",
   "version": "3.10.9"
  },
  "orig_nbformat": 4
 },
 "nbformat": 4,
 "nbformat_minor": 2
}
